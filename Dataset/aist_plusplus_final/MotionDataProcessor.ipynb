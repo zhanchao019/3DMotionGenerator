{
 "cells": [
  {
   "cell_type": "code",
   "execution_count": 27,
   "metadata": {
    "collapsed": true
   },
   "outputs": [],
   "source": [
    "import pickle\n",
    "import os\n",
    "from tqdm import tqdm\n",
    "import cv2\n",
    "import numpy as np\n",
    "motion_path=\"./motions\""
   ]
  },
  {
   "cell_type": "markdown",
   "source": [
    "按照帧数进行分隔，因为视频是60帧，所以用秒数来进行输入，后续合并于audio进行合并"
   ],
   "metadata": {
    "collapsed": false,
    "pycharm": {
     "name": "#%% md\n"
    }
   }
  },
  {
   "cell_type": "code",
   "execution_count": null,
   "outputs": [],
   "source": [
    "startFrame=0\n",
    "duration=2\n",
    "FPS=60\n",
    "endFrame=startFrame+duration*FPS"
   ],
   "metadata": {
    "collapsed": false,
    "pycharm": {
     "name": "#%%\n"
    }
   }
  },
  {
   "cell_type": "markdown",
   "source": [
    "video transformer的输入是219维向量\n",
    "分别是216的关节数据加上3的整体旋转角度\n",
    "216的关节数据是通过每一帧的24个关节xyz坐标经过cv2的rodrigues来生成3*3的矩阵来生成的，最后进行组合即可"
   ],
   "metadata": {
    "collapsed": false,
    "pycharm": {
     "name": "#%% md\n"
    }
   }
  },
  {
   "cell_type": "markdown",
   "source": [
    "motion文件数据\n",
    "smpl_poses: Sequences of SMPL pose parameters. Array shape is (N, 24, 3).\n",
    "smpl_scaling: Human body scaling factor. A scalar value for each sequence.\n",
    "smpl_trans: Motion 3D trajectory. Array shape is (N, 3)."
   ],
   "metadata": {
    "collapsed": false,
    "pycharm": {
     "name": "#%% md\n"
    }
   }
  },
  {
   "cell_type": "markdown",
   "source": [
    "Rodrigues\n",
    "处理矩阵三维转换时，通常采用旋转矩阵，但是旋转变换其实只有三个自由度，用旋转向量表达时更为简洁。因此，需要实现从旋转向量和旋转矩阵之间的互转换。\n",
    "旋转向量和旋转矩阵之间可以通过罗德里格斯公式进行转换："
   ],
   "metadata": {
    "collapsed": false,
    "pycharm": {
     "name": "#%% md\n"
    }
   }
  },
  {
   "cell_type": "code",
   "execution_count": 78,
   "outputs": [
    {
     "name": "stderr",
     "output_type": "stream",
     "text": [
      "processing motion:   0%|          | 0/1408 [00:00<?, ?it/s]\n"
     ]
    },
    {
     "name": "stdout",
     "output_type": "stream",
     "text": [
      "(120, 216)\n"
     ]
    }
   ],
   "source": [
    "for file in tqdm(os.listdir(motion_path),desc=\"processing motion\"):\n",
    "    content=open(r'./motions/'+file,'rb')\n",
    "    data=pickle.load(content)\n",
    "\n",
    "    frameDataSet=[]\n",
    "    for frame in range(startFrame,endFrame,1):\n",
    "        jointDataSet=[]\n",
    "        for joint in range(0,24,1):\n",
    "\n",
    "            x=data[\"smpl_poses\"][frame][3*joint]*data[\"smpl_scaling\"]\n",
    "            y=data[\"smpl_poses\"][frame][3*joint+1]*data[\"smpl_scaling\"]\n",
    "            z=data[\"smpl_poses\"][frame][3*joint+2]*data[\"smpl_scaling\"]\n",
    "\n",
    "            pos=np.asarray([x,y,z])\n",
    "            #print(pos)\n",
    "            jointDataSet.append(cv2.Rodrigues(pos)[0].flatten())\n",
    "\n",
    "\n",
    "        transData=np.asarray(data[\"smpl_trans\"][frame])\n",
    "        jointDataSet=np.asarray(jointDataSet)\n",
    "\n",
    "\n",
    "        jointDataSet=jointDataSet.flatten()\n",
    "        #print(jointDataSet.shape)\n",
    "        np.append(jointDataSet,transData[0])\n",
    "        np.append(jointDataSet,transData[1])\n",
    "        np.append(jointDataSet,transData[2])\n",
    "\n",
    "        frameDataSet.append(jointDataSet)\n",
    "        #frameDataSet.append(transData)\n",
    "        #print(frameDataSet)\n",
    "\n",
    "    frameDataSet=np.asarray(frameDataSet)\n",
    "    print(frameDataSet.shape)\n",
    "    break"
   ],
   "metadata": {
    "collapsed": false,
    "pycharm": {
     "name": "#%%\n"
    }
   }
  },
  {
   "cell_type": "code",
   "execution_count": null,
   "outputs": [],
   "source": [],
   "metadata": {
    "collapsed": false,
    "pycharm": {
     "name": "#%%\n"
    }
   }
  }
 ],
 "metadata": {
  "kernelspec": {
   "name": "pycharm-5343eecf",
   "language": "python",
   "display_name": "PyCharm (Pytorch-pratice)"
  },
  "language_info": {
   "codemirror_mode": {
    "name": "ipython",
    "version": 2
   },
   "file_extension": ".py",
   "mimetype": "text/x-python",
   "name": "python",
   "nbconvert_exporter": "python",
   "pygments_lexer": "ipython2",
   "version": "2.7.6"
  }
 },
 "nbformat": 4,
 "nbformat_minor": 0
}