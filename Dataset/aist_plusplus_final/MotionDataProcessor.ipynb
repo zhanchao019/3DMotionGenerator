{
 "cells": [
  {
   "cell_type": "code",
   "execution_count": 6,
   "metadata": {
    "collapsed": true
   },
   "outputs": [],
   "source": [
    "import pickle\n",
    "import os\n",
    "from tqdm import tqdm\n",
    "motion_path=\"./motions\""
   ]
  },
  {
   "cell_type": "code",
   "execution_count": 13,
   "outputs": [
    {
     "name": "stderr",
     "output_type": "stream",
     "text": [
      "processing motion:   0%|          | 0/1408 [00:00<?, ?it/s]\n"
     ]
    },
    {
     "name": "stdout",
     "output_type": "stream",
     "text": [
      "{'smpl_loss': 1.2078367471694946, 'smpl_poses': array([[-3.65635343e-02,  6.52078092e-02, -6.34754673e-02, ...,\n",
      "         1.47297082e-03,  1.28331862e-03,  4.62488364e-03],\n",
      "       [-5.09959050e-02,  7.50788227e-02, -5.68397790e-02, ...,\n",
      "         1.81261962e-03, -2.23242125e-04,  5.35567291e-03],\n",
      "       [-4.56929281e-02,  5.39541021e-02, -3.76904681e-02, ...,\n",
      "         1.02446438e-03,  1.31538909e-04,  5.18510584e-03],\n",
      "       ...,\n",
      "       [-1.38300151e-01,  1.02710354e+00,  1.11546494e-01, ...,\n",
      "         6.16426347e-03,  6.11276925e-03,  7.17201224e-03],\n",
      "       [-1.19173061e-02,  1.01962888e+00,  5.17233424e-02, ...,\n",
      "         4.47507156e-03,  3.79243609e-03,  4.14025085e-03],\n",
      "       [-2.15147231e-02,  1.01798916e+00,  6.02166094e-02, ...,\n",
      "         4.57922742e-03,  2.87913322e-03,  4.71002283e-03]], dtype=float32), 'smpl_scaling': array([87.26154], dtype=float32), 'smpl_trans': array([[ 119.78841 ,  169.70856 , -176.90828 ],\n",
      "       [ 119.77684 ,  169.07108 , -177.12373 ],\n",
      "       [ 119.71288 ,  167.84294 , -177.09117 ],\n",
      "       ...,\n",
      "       [  85.71025 ,  170.30008 ,   15.875132],\n",
      "       [  87.47804 ,  169.73126 ,   16.213825],\n",
      "       [  88.012665,  169.55232 ,   15.551091]], dtype=float32)}\n"
     ]
    }
   ],
   "source": [
    "for file in tqdm(os.listdir(motion_path),desc=\"processing motion\"):\n",
    "    content=open(r'./motions/'+file,'rb')\n",
    "    data=pickle.load(content)\n",
    "\n",
    "    print(data)\n",
    "    break"
   ],
   "metadata": {
    "collapsed": false,
    "pycharm": {
     "name": "#%%\n"
    }
   }
  },
  {
   "cell_type": "code",
   "execution_count": null,
   "outputs": [],
   "source": [],
   "metadata": {
    "collapsed": false,
    "pycharm": {
     "name": "#%%\n"
    }
   }
  }
 ],
 "metadata": {
  "kernelspec": {
   "name": "pycharm-5343eecf",
   "language": "python",
   "display_name": "PyCharm (Pytorch-pratice)"
  },
  "language_info": {
   "codemirror_mode": {
    "name": "ipython",
    "version": 2
   },
   "file_extension": ".py",
   "mimetype": "text/x-python",
   "name": "python",
   "nbconvert_exporter": "python",
   "pygments_lexer": "ipython2",
   "version": "2.7.6"
  }
 },
 "nbformat": 4,
 "nbformat_minor": 0
}