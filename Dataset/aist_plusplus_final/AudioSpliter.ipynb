{
 "cells": [
  {
   "cell_type": "markdown",
   "source": [
    "1. 导入模块将wav无损音频分离到audio文件夹中"
   ],
   "metadata": {
    "collapsed": false,
    "pycharm": {
     "name": "#%% md\n"
    }
   }
  },
  {
   "cell_type": "code",
   "execution_count": 2,
   "outputs": [],
   "source": [
    "import os\n",
    "from sklearn.preprocessing import OneHotEncoder, LabelEncoder\n",
    "from tqdm import tqdm, trange\n",
    "import time\n",
    "from moviepy.editor import *\n",
    "video_path=\"./video\"\n",
    "audio_path=\"./audio\""
   ],
   "metadata": {
    "collapsed": false,
    "pycharm": {
     "name": "#%%\n"
    }
   }
  },
  {
   "cell_type": "code",
   "execution_count": 3,
   "outputs": [
    {
     "name": "stderr",
     "output_type": "stream",
     "text": [
      "processing:   0%|          | 0/20 [00:00<?, ?it/s]\n",
      "chunk:   0%|          | 0/236 [00:00<?, ?it/s, now=None]\u001B[A\n",
      "chunk:  86%|████████▋ | 204/236 [00:00<00:00, 1958.48it/s, now=None]\u001B[A\n",
      "processing:   5%|▌         | 1/20 [00:00<00:08,  2.35it/s]          \u001B[A\n",
      "chunk:   0%|          | 0/265 [00:00<?, ?it/s, now=None]\u001B[A\n",
      "chunk:  77%|███████▋  | 204/265 [00:00<00:00, 1950.72it/s, now=None]\u001B[A\n",
      "processing:  10%|█         | 2/20 [00:01<00:07,  2.56it/s]          \u001B[A\n",
      "chunk:   0%|          | 0/265 [00:00<?, ?it/s, now=None]\u001B[A\n",
      "chunk:  77%|███████▋  | 204/265 [00:00<00:00, 1922.48it/s, now=None]\u001B[A\n",
      "processing:  15%|█▌        | 3/20 [00:01<00:06,  2.49it/s]          \u001B[A\n",
      "chunk:   0%|          | 0/236 [00:00<?, ?it/s, now=None]\u001B[A\n",
      "processing:  20%|██        | 4/20 [00:01<00:05,  2.74it/s]A\n",
      "chunk:   0%|          | 0/265 [00:00<?, ?it/s, now=None]\u001B[A\n",
      "chunk:  78%|███████▊  | 206/265 [00:00<00:00, 2058.44it/s, now=None]\u001B[A\n",
      "processing:  25%|██▌       | 5/20 [00:02<00:05,  2.82it/s]          \u001B[A\n",
      "chunk:   0%|          | 0/236 [00:00<?, ?it/s, now=None]\u001B[A\n",
      "processing:  30%|███       | 6/20 [00:02<00:04,  2.91it/s]A\n",
      "chunk:   0%|          | 0/265 [00:00<?, ?it/s, now=None]\u001B[A\n",
      "chunk:  80%|███████▉  | 211/265 [00:00<00:00, 2106.21it/s, now=None]\u001B[A\n",
      "processing:  35%|███▌      | 7/20 [00:02<00:04,  2.91it/s]          \u001B[A\n",
      "chunk:   0%|          | 0/236 [00:00<?, ?it/s, now=None]\u001B[A\n",
      "chunk:  95%|█████████▌| 225/236 [00:00<00:00, 2246.90it/s, now=None]\u001B[A\n",
      "processing:  40%|████      | 8/20 [00:03<00:04,  2.96it/s]          \u001B[A\n",
      "chunk:   0%|          | 0/236 [00:00<?, ?it/s, now=None]\u001B[A\n",
      "processing:  45%|████▌     | 9/20 [00:03<00:03,  2.94it/s]A\n",
      "chunk:   0%|          | 0/265 [00:00<?, ?it/s, now=None]\u001B[A\n",
      "chunk:  77%|███████▋  | 204/265 [00:00<00:00, 2005.53it/s, now=None]\u001B[A\n",
      "processing:  50%|█████     | 10/20 [00:03<00:03,  2.91it/s]         \u001B[A\n",
      "chunk:   0%|          | 0/236 [00:00<?, ?it/s, now=None]\u001B[A\n",
      "processing:  55%|█████▌    | 11/20 [00:04<00:03,  2.90it/s]\n",
      "chunk:   0%|          | 0/265 [00:00<?, ?it/s, now=None]\u001B[A\n",
      "chunk:  77%|███████▋  | 204/265 [00:00<00:00, 2019.48it/s, now=None]\u001B[A\n",
      "processing:  60%|██████    | 12/20 [00:04<00:02,  2.82it/s]         \u001B[A\n",
      "chunk:   0%|          | 0/236 [00:00<?, ?it/s, now=None]\u001B[A\n",
      "processing:  65%|██████▌   | 13/20 [00:04<00:02,  2.86it/s]\n",
      "chunk:   0%|          | 0/265 [00:00<?, ?it/s, now=None]\u001B[A\n",
      "chunk:  77%|███████▋  | 204/265 [00:00<00:00, 2019.20it/s, now=None]\u001B[A\n",
      "processing:  70%|███████   | 14/20 [00:05<00:02,  2.87it/s]         \u001B[A\n",
      "chunk:   0%|          | 0/265 [00:00<?, ?it/s, now=None]\u001B[A\n",
      "chunk:  77%|███████▋  | 204/265 [00:00<00:00, 1987.63it/s, now=None]\u001B[A\n",
      "processing:  75%|███████▌  | 15/20 [00:05<00:01,  2.62it/s]         \u001B[A\n",
      "chunk:   0%|          | 0/236 [00:00<?, ?it/s, now=None]\u001B[A\n",
      "processing:  80%|████████  | 16/20 [00:05<00:01,  2.78it/s]\n",
      "chunk:   0%|          | 0/236 [00:00<?, ?it/s, now=None]\u001B[A\n",
      "processing:  85%|████████▌ | 17/20 [00:06<00:01,  2.84it/s]\n",
      "chunk:   0%|          | 0/265 [00:00<?, ?it/s, now=None]\u001B[A\n",
      "chunk:  77%|███████▋  | 204/265 [00:00<00:00, 1909.45it/s, now=None]\u001B[A\n",
      "processing:  90%|█████████ | 18/20 [00:06<00:00,  2.88it/s]         \u001B[A\n",
      "chunk:   0%|          | 0/265 [00:00<?, ?it/s, now=None]\u001B[A\n",
      "chunk:  72%|███████▏  | 190/265 [00:00<00:00, 1897.34it/s, now=None]\u001B[A\n",
      "processing:  95%|█████████▌| 19/20 [00:07<00:00,  2.64it/s]         \u001B[A\n",
      "chunk:   0%|          | 0/236 [00:00<?, ?it/s, now=None]\u001B[A\n",
      "processing: 100%|██████████| 20/20 [00:07<00:00,  2.80it/s]\n"
     ]
    },
    {
     "name": "stdout",
     "output_type": "stream",
     "text": [
      "MoviePy - Writing audio in ./audio/gBR_sBM_c01_d04_mBR1_ch06.wav\n",
      "MoviePy - Done.\n",
      "MoviePy - Writing audio in ./audio/gBR_sBM_c01_d04_mBR0_ch06.wav\n",
      "MoviePy - Done.\n",
      "MoviePy - Writing audio in ./audio/gBR_sBM_c01_d04_mBR0_ch07.wav\n",
      "MoviePy - Done.\n",
      "MoviePy - Writing audio in ./audio/gBR_sBM_c01_d04_mBR1_ch07.wav\n",
      "MoviePy - Done.\n",
      "MoviePy - Writing audio in ./audio/gBR_sBM_c01_d04_mBR0_ch05.wav\n",
      "MoviePy - Done.\n",
      "MoviePy - Writing audio in ./audio/gBR_sBM_c01_d04_mBR1_ch05.wav\n",
      "MoviePy - Done.\n",
      "MoviePy - Writing audio in ./audio/gBR_sBM_c01_d04_mBR0_ch10.wav\n",
      "MoviePy - Done.\n",
      "MoviePy - Writing audio in ./audio/gBR_sBM_c01_d04_mBR1_ch04.wav\n",
      "MoviePy - Done.\n",
      "MoviePy - Writing audio in ./audio/gBR_sBM_c01_d04_mBR1_ch10.wav\n",
      "MoviePy - Done.\n",
      "MoviePy - Writing audio in ./audio/gBR_sBM_c01_d04_mBR0_ch04.wav\n",
      "MoviePy - Done.\n",
      "MoviePy - Writing audio in ./audio/gBR_sBM_c01_d04_mBR1_ch01.wav\n",
      "MoviePy - Done.\n",
      "MoviePy - Writing audio in ./audio/gBR_sBM_c01_d04_mBR0_ch01.wav\n",
      "MoviePy - Done.\n",
      "MoviePy - Writing audio in ./audio/gBR_sBM_c01_d04_mBR1_ch03.wav\n",
      "MoviePy - Done.\n",
      "MoviePy - Writing audio in ./audio/gBR_sBM_c01_d04_mBR0_ch03.wav\n",
      "MoviePy - Done.\n",
      "MoviePy - Writing audio in ./audio/gBR_sBM_c01_d04_mBR0_ch02.wav\n",
      "MoviePy - Done.\n",
      "MoviePy - Writing audio in ./audio/gBR_sBM_c01_d04_mBR1_ch02.wav\n",
      "MoviePy - Done.\n",
      "MoviePy - Writing audio in ./audio/gBR_sBM_c01_d04_mBR1_ch09.wav\n",
      "MoviePy - Done.\n",
      "MoviePy - Writing audio in ./audio/gBR_sBM_c01_d04_mBR0_ch09.wav\n",
      "MoviePy - Done.\n",
      "MoviePy - Writing audio in ./audio/gBR_sBM_c01_d04_mBR0_ch08.wav\n",
      "MoviePy - Done.\n",
      "MoviePy - Writing audio in ./audio/gBR_sBM_c01_d04_mBR1_ch08.wav\n",
      "MoviePy - Done.\n"
     ]
    }
   ],
   "source": [
    "video_list=os.listdir(video_path)\n",
    "for file in tqdm((video_list),desc='processing'):\n",
    "    if('.mp4' in file):\n",
    "        video = VideoFileClip(video_path+\"/\"+file)\n",
    "        audio = video.audio\n",
    "        #print(file.replace(\".mp4\", \".wav\"))\n",
    "        (audio.write_audiofile(audio_path+'/'+file.replace(\".mp4\", \".wav\")))"
   ],
   "metadata": {
    "collapsed": false,
    "pycharm": {
     "name": "#%%\n"
    }
   }
  },
  {
   "cell_type": "markdown",
   "source": [
    "2.使用librosa进行音频处理\n",
    "2.1 120帧的video和240帧的audio"
   ],
   "metadata": {
    "collapsed": false
   }
  },
  {
   "cell_type": "code",
   "execution_count": 11,
   "outputs": [],
   "source": [
    "import librosa\n",
    "import librosa.display\n",
    "import matplotlib.pyplot as plt\n",
    "import torch\n",
    "import numpy as np\n",
    "from sklearn import preprocessing\n",
    "from sklearn.preprocessing import LabelEncoder,OneHotEncoder"
   ],
   "metadata": {
    "collapsed": false,
    "pycharm": {
     "name": "#%%\n"
    }
   }
  },
  {
   "cell_type": "code",
   "execution_count": 55,
   "outputs": [
    {
     "name": "stderr",
     "output_type": "stream",
     "text": [
      "processing audio:   0%|          | 0/20 [00:00<?, ?it/s]\n"
     ]
    },
    {
     "name": "stdout",
     "output_type": "stream",
     "text": [
      "(1, 1)\n",
      "(20, 345)\n",
      "(12, 241)\n"
     ]
    }
   ],
   "source": [
    "data=list()\n",
    "for audiofile in tqdm(os.listdir(audio_path),desc=\"processing audio\"):\n",
    "    envelop = audiofile\n",
    "    start=0\n",
    "    duration = 4\n",
    "    stop = start + duration\n",
    "    y,sr=librosa.load(audio_path+\"/\"+audiofile,sr=None,offset = start, duration = duration)#sr是采样率,None指原生采样率\n",
    "\n",
    "    audio_duration = librosa.get_duration(y,sr)\n",
    "\n",
    "\n",
    "    audio_dist = y[start*sr:stop*sr]\n",
    "    frame_shift = duration/240#帧长\n",
    "    frame_length = 0.03125#帧移\n",
    "    hop_length =int(duration * sr / 240) #frame_shift * sr\n",
    "    win_length = int(frame_length*sr)\n",
    "    '''\n",
    "    plt.figure()\n",
    "    librosa.display.waveplot(audio_dist,sr)\n",
    "    #librosa.display.waveplot(audio_dist,sr)\n",
    "    '''\n",
    "    mfccs=librosa.feature.mfcc(y=audio_dist,sr=sr,n_mfcc=20)\n",
    "    chroma=librosa.feature.chroma_stft(audio_dist,sr=sr,hop_length=hop_length,win_length=win_length,n_chroma=12)\n",
    "\n",
    "    oneset_env = librosa.onset.onset_strength(y=audio_dist,sr=sr,hop_length=hop_length,aggregate=np.median)\n",
    "    peak = librosa.util.peak_pick(oneset_env,1,1,1,1,0.8,5)#公式来决定的，具体参数最后两个比较重要，后面需要调整\n",
    "    tempo,beats = librosa.beat.beat_track(y=audio_dist,sr=sr,hop_length=hop_length)\n",
    "\n",
    "    '''\n",
    "    value=np.array(peak)\n",
    "    label_encoder=LabelEncoder()\n",
    "    integer_encoded = label_encoder.fit_transform(value)\n",
    "    print(integer_encoded)\n",
    "    onehot_encoder = OneHotEncoder(sparse=False)\n",
    "    integer_encoded = integer_encoded.reshape(len(integer_encoded), 1)\n",
    "    onehot_encoded = onehot_encoder.fit_transform(integer_encoded)\n",
    "    print(onehot_encoded)\n",
    "    '''\n",
    "\n",
    "\n",
    "    #print(\"tempo\",tempo, \"\\nbeat_frames\",beats)\n",
    "    #tmp=envelop+mfccs+chroma+peak+beats\n",
    "    envelop=np.asarray(envelop)\n",
    "    envelop=np.asarray([[envelop]])\n",
    "    print(envelop.shape)\n",
    "    print(mfccs.shape)\n",
    "    print(chroma.shape)\n",
    "\n",
    "\n",
    "    #tmp=np.concatenate((envelop,mfccs),axis=1)\n",
    "    #print(tmp.shape)\n",
    "\n",
    "    '''\n",
    "    # Display click waveform next to the spectrogram\n",
    "    plt.figure()\n",
    "    S = librosa.feature.melspectrogram(y=audio_dist, sr=sr)\n",
    "    ax = plt.subplot(2,1,2)\n",
    "    librosa.display.specshow(librosa.power_to_db(S, ref=np.max),\n",
    "                             x_axis='time', y_axis='mel')\n",
    "    plt.subplot(2,1,1, sharex=ax)\n",
    "    librosa.display.waveplot(beats, sr=sr, label='Beat clicks')\n",
    "    plt.legend()\n",
    "    plt.xlim(15, 30)\n",
    "    plt.tight_layout()\n",
    "    '''\n",
    "    break\n",
    "\n",
    "\n"
   ],
   "metadata": {
    "collapsed": false,
    "pycharm": {
     "name": "#%%\n"
    }
   }
  },
  {
   "cell_type": "code",
   "execution_count": null,
   "outputs": [],
   "source": [],
   "metadata": {
    "collapsed": false,
    "pycharm": {
     "name": "#%%\n"
    }
   }
  }
 ],
 "metadata": {
  "kernelspec": {
   "name": "pycharm-5343eecf",
   "language": "python",
   "display_name": "PyCharm (Pytorch-pratice)"
  },
  "language_info": {
   "codemirror_mode": {
    "name": "ipython",
    "version": 2
   },
   "file_extension": ".py",
   "mimetype": "text/x-python",
   "name": "python",
   "nbconvert_exporter": "python",
   "pygments_lexer": "ipython2",
   "version": "2.7.6"
  }
 },
 "nbformat": 4,
 "nbformat_minor": 0
}