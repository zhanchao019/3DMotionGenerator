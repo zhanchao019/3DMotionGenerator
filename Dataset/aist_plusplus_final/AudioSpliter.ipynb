{
 "cells": [
  {
   "cell_type": "markdown",
   "source": [
    "1. 导入模块将wav无损音频分离到audio文件夹中"
   ],
   "metadata": {
    "collapsed": false,
    "pycharm": {
     "name": "#%% md\n"
    }
   }
  },
  {
   "cell_type": "code",
   "execution_count": 2,
   "outputs": [],
   "source": [
    "import os\n",
    "from sklearn.preprocessing import OneHotEncoder, LabelEncoder\n",
    "from tqdm import tqdm, trange\n",
    "import time\n",
    "from moviepy.editor import *\n",
    "video_path=\"./video\"\n",
    "audio_path=\"./audio\""
   ],
   "metadata": {
    "collapsed": false,
    "pycharm": {
     "name": "#%%\n"
    }
   }
  },
  {
   "cell_type": "code",
   "execution_count": 3,
   "outputs": [
    {
     "name": "stderr",
     "output_type": "stream",
     "text": [
      "processing:   0%|          | 0/20 [00:00<?, ?it/s]\n",
      "chunk:   0%|          | 0/236 [00:00<?, ?it/s, now=None]\u001B[A\n",
      "chunk:  86%|████████▋ | 204/236 [00:00<00:00, 1995.78it/s, now=None]\u001B[A\n",
      "processing:   5%|▌         | 1/20 [00:00<00:08,  2.29it/s]          \u001B[A"
     ]
    },
    {
     "name": "stdout",
     "output_type": "stream",
     "text": [
      "MoviePy - Writing audio in ./audio/gBR_sBM_c01_d04_mBR1_ch06.wav\n",
      "MoviePy - Done.\n"
     ]
    },
    {
     "name": "stderr",
     "output_type": "stream",
     "text": [
      "processing:   5%|▌         | 1/20 [00:00<00:08,  2.29it/s]\n",
      "chunk:   0%|          | 0/265 [00:00<?, ?it/s, now=None]\u001B[A\n",
      "chunk:  77%|███████▋  | 204/265 [00:00<00:00, 1906.47it/s, now=None]\u001B[A\n",
      "processing:  10%|█         | 2/20 [00:00<00:07,  2.38it/s]          \u001B[A"
     ]
    },
    {
     "name": "stdout",
     "output_type": "stream",
     "text": [
      "MoviePy - Writing audio in ./audio/gBR_sBM_c01_d04_mBR0_ch06.wav\n",
      "MoviePy - Done.\n"
     ]
    },
    {
     "name": "stderr",
     "output_type": "stream",
     "text": [
      "processing:  10%|█         | 2/20 [00:01<00:07,  2.38it/s]\n",
      "chunk:   0%|          | 0/265 [00:00<?, ?it/s, now=None]\u001B[A\n",
      "chunk:  77%|███████▋  | 204/265 [00:00<00:00, 1927.64it/s, now=None]\u001B[A\n",
      "processing:  15%|█▌        | 3/20 [00:01<00:07,  2.33it/s]          \u001B[A"
     ]
    },
    {
     "name": "stdout",
     "output_type": "stream",
     "text": [
      "MoviePy - Writing audio in ./audio/gBR_sBM_c01_d04_mBR0_ch07.wav\n",
      "MoviePy - Done.\n"
     ]
    },
    {
     "name": "stderr",
     "output_type": "stream",
     "text": [
      "processing:  15%|█▌        | 3/20 [00:01<00:07,  2.33it/s]\n",
      "chunk:   0%|          | 0/236 [00:00<?, ?it/s, now=None]\u001B[A\n",
      "chunk:  94%|█████████▍| 223/236 [00:00<00:00, 2227.35it/s, now=None]\u001B[A\n",
      "processing:  20%|██        | 4/20 [00:01<00:06,  2.53it/s]          \u001B[A"
     ]
    },
    {
     "name": "stdout",
     "output_type": "stream",
     "text": [
      "MoviePy - Writing audio in ./audio/gBR_sBM_c01_d04_mBR1_ch07.wav\n",
      "MoviePy - Done.\n"
     ]
    },
    {
     "name": "stderr",
     "output_type": "stream",
     "text": [
      "processing:  20%|██        | 4/20 [00:01<00:06,  2.53it/s]\n",
      "chunk:   0%|          | 0/265 [00:00<?, ?it/s, now=None]\u001B[A\n",
      "chunk:  77%|███████▋  | 204/265 [00:00<00:00, 1952.60it/s, now=None]\u001B[A\n",
      "processing:  25%|██▌       | 5/20 [00:01<00:05,  2.66it/s]          \u001B[A"
     ]
    },
    {
     "name": "stdout",
     "output_type": "stream",
     "text": [
      "MoviePy - Writing audio in ./audio/gBR_sBM_c01_d04_mBR0_ch05.wav\n",
      "MoviePy - Done.\n"
     ]
    },
    {
     "name": "stderr",
     "output_type": "stream",
     "text": [
      "processing:  25%|██▌       | 5/20 [00:02<00:05,  2.66it/s]\n",
      "chunk:   0%|          | 0/236 [00:00<?, ?it/s, now=None]\u001B[A\n",
      "chunk:  65%|██████▍   | 153/236 [00:00<00:00, 1470.18it/s, now=None]\u001B[A\n",
      "processing:  30%|███       | 6/20 [00:02<00:05,  2.53it/s]          \u001B[A"
     ]
    },
    {
     "name": "stdout",
     "output_type": "stream",
     "text": [
      "MoviePy - Writing audio in ./audio/gBR_sBM_c01_d04_mBR1_ch05.wav\n",
      "MoviePy - Done.\n"
     ]
    },
    {
     "name": "stderr",
     "output_type": "stream",
     "text": [
      "processing:  30%|███       | 6/20 [00:02<00:05,  2.53it/s]\n",
      "chunk:   0%|          | 0/265 [00:00<?, ?it/s, now=None]\u001B[A\n",
      "chunk:  77%|███████▋  | 204/265 [00:00<00:00, 1859.35it/s, now=None]\u001B[A\n",
      "processing:  35%|███▌      | 7/20 [00:02<00:05,  2.55it/s]          \u001B[A"
     ]
    },
    {
     "name": "stdout",
     "output_type": "stream",
     "text": [
      "MoviePy - Writing audio in ./audio/gBR_sBM_c01_d04_mBR0_ch10.wav\n",
      "MoviePy - Done.\n"
     ]
    },
    {
     "name": "stderr",
     "output_type": "stream",
     "text": [
      "processing:  35%|███▌      | 7/20 [00:03<00:05,  2.55it/s]\n",
      "chunk:   0%|          | 0/236 [00:00<?, ?it/s, now=None]\u001B[A\n",
      "chunk:  75%|███████▌  | 178/236 [00:00<00:00, 1775.84it/s, now=None]\u001B[A\n",
      "processing:  40%|████      | 8/20 [00:03<00:04,  2.50it/s]          \u001B[A"
     ]
    },
    {
     "name": "stdout",
     "output_type": "stream",
     "text": [
      "MoviePy - Writing audio in ./audio/gBR_sBM_c01_d04_mBR1_ch04.wav\n",
      "MoviePy - Done.\n"
     ]
    },
    {
     "name": "stderr",
     "output_type": "stream",
     "text": [
      "processing:  40%|████      | 8/20 [00:03<00:04,  2.50it/s]\n",
      "chunk:   0%|          | 0/236 [00:00<?, ?it/s, now=None]\u001B[A\n",
      "processing:  45%|████▌     | 9/20 [00:03<00:04,  2.45it/s]A"
     ]
    },
    {
     "name": "stdout",
     "output_type": "stream",
     "text": [
      "MoviePy - Writing audio in ./audio/gBR_sBM_c01_d04_mBR1_ch10.wav\n",
      "MoviePy - Done.\n"
     ]
    },
    {
     "name": "stderr",
     "output_type": "stream",
     "text": [
      "processing:  45%|████▌     | 9/20 [00:03<00:04,  2.45it/s]\n",
      "chunk:   0%|          | 0/265 [00:00<?, ?it/s, now=None]\u001B[A\n",
      "chunk:  69%|██████▉   | 183/265 [00:00<00:00, 1827.11it/s, now=None]\u001B[A\n",
      "processing:  50%|█████     | 10/20 [00:04<00:04,  2.39it/s]         \u001B[A"
     ]
    },
    {
     "name": "stdout",
     "output_type": "stream",
     "text": [
      "MoviePy - Writing audio in ./audio/gBR_sBM_c01_d04_mBR0_ch04.wav\n",
      "MoviePy - Done.\n"
     ]
    },
    {
     "name": "stderr",
     "output_type": "stream",
     "text": [
      "processing:  50%|█████     | 10/20 [00:04<00:04,  2.39it/s]\n",
      "chunk:   0%|          | 0/236 [00:00<?, ?it/s, now=None]\u001B[A\n",
      "chunk:  86%|████████▋ | 204/236 [00:00<00:00, 1994.14it/s, now=None]\u001B[A\n",
      "processing:  55%|█████▌    | 11/20 [00:04<00:03,  2.48it/s]         \u001B[A"
     ]
    },
    {
     "name": "stdout",
     "output_type": "stream",
     "text": [
      "MoviePy - Writing audio in ./audio/gBR_sBM_c01_d04_mBR1_ch01.wav\n",
      "MoviePy - Done.\n"
     ]
    },
    {
     "name": "stderr",
     "output_type": "stream",
     "text": [
      "processing:  55%|█████▌    | 11/20 [00:04<00:03,  2.48it/s]\n",
      "chunk:   0%|          | 0/265 [00:00<?, ?it/s, now=None]\u001B[A\n",
      "chunk:  76%|███████▌  | 201/265 [00:00<00:00, 2007.25it/s, now=None]\u001B[A\n",
      "processing:  60%|██████    | 12/20 [00:04<00:03,  2.45it/s]         \u001B[A"
     ]
    },
    {
     "name": "stdout",
     "output_type": "stream",
     "text": [
      "MoviePy - Writing audio in ./audio/gBR_sBM_c01_d04_mBR0_ch01.wav\n",
      "MoviePy - Done.\n"
     ]
    },
    {
     "name": "stderr",
     "output_type": "stream",
     "text": [
      "processing:  60%|██████    | 12/20 [00:05<00:03,  2.45it/s]\n",
      "chunk:   0%|          | 0/236 [00:00<?, ?it/s, now=None]\u001B[A\n",
      "chunk:  65%|██████▍   | 153/236 [00:00<00:00, 1265.23it/s, now=None]\u001B[A\n",
      "processing:  60%|██████    | 12/20 [00:05<00:03,  2.45it/s]         \u001B[A"
     ]
    },
    {
     "name": "stdout",
     "output_type": "stream",
     "text": [
      "MoviePy - Writing audio in ./audio/gBR_sBM_c01_d04_mBR1_ch03.wav\n",
      "MoviePy - Done.\n"
     ]
    },
    {
     "name": "stderr",
     "output_type": "stream",
     "text": [
      "processing:  65%|██████▌   | 13/20 [00:05<00:03,  2.20it/s]\n",
      "chunk:   0%|          | 0/265 [00:00<?, ?it/s, now=None]\u001B[A\n",
      "chunk:  58%|█████▊    | 153/265 [00:00<00:00, 1247.87it/s, now=None]\u001B[A"
     ]
    },
    {
     "name": "stdout",
     "output_type": "stream",
     "text": [
      "MoviePy - Writing audio in ./audio/gBR_sBM_c01_d04_mBR0_ch03.wav\n"
     ]
    },
    {
     "name": "stderr",
     "output_type": "stream",
     "text": [
      "\n",
      "processing:  70%|███████   | 14/20 [00:06<00:03,  1.94it/s]         \u001B[A"
     ]
    },
    {
     "name": "stdout",
     "output_type": "stream",
     "text": [
      "MoviePy - Done.\n"
     ]
    },
    {
     "name": "stderr",
     "output_type": "stream",
     "text": [
      "processing:  70%|███████   | 14/20 [00:06<00:03,  1.94it/s]"
     ]
    },
    {
     "name": "stdout",
     "output_type": "stream",
     "text": [
      "MoviePy - Writing audio in ./audio/gBR_sBM_c01_d04_mBR0_ch02.wav\n"
     ]
    },
    {
     "name": "stderr",
     "output_type": "stream",
     "text": [
      "\n",
      "chunk:   0%|          | 0/265 [00:00<?, ?it/s, now=None]\u001B[A\n",
      "chunk:  45%|████▌     | 120/265 [00:00<00:00, 1197.96it/s, now=None]\u001B[A\n",
      "chunk:  91%|█████████ | 240/265 [00:00<00:00, 732.99it/s, now=None] \u001B[A\n",
      "processing:  75%|███████▌  | 15/20 [00:07<00:03,  1.50it/s]        \u001B[A"
     ]
    },
    {
     "name": "stdout",
     "output_type": "stream",
     "text": [
      "MoviePy - Done.\n"
     ]
    },
    {
     "name": "stderr",
     "output_type": "stream",
     "text": [
      "processing:  75%|███████▌  | 15/20 [00:07<00:03,  1.50it/s]\n",
      "chunk:   0%|          | 0/236 [00:00<?, ?it/s, now=None]\u001B[A\n",
      "chunk:  74%|███████▎  | 174/236 [00:00<00:00, 1738.96it/s, now=None]\u001B[A\n",
      "processing:  80%|████████  | 16/20 [00:07<00:02,  1.70it/s]         \u001B[A"
     ]
    },
    {
     "name": "stdout",
     "output_type": "stream",
     "text": [
      "MoviePy - Writing audio in ./audio/gBR_sBM_c01_d04_mBR1_ch02.wav\n",
      "MoviePy - Done.\n"
     ]
    },
    {
     "name": "stderr",
     "output_type": "stream",
     "text": [
      "processing:  80%|████████  | 16/20 [00:07<00:02,  1.70it/s]\n",
      "chunk:   0%|          | 0/236 [00:00<?, ?it/s, now=None]\u001B[A\n",
      "chunk:  86%|████████▋ | 204/236 [00:00<00:00, 1799.85it/s, now=None]\u001B[A\n",
      "processing:  85%|████████▌ | 17/20 [00:07<00:01,  1.88it/s]         \u001B[A"
     ]
    },
    {
     "name": "stdout",
     "output_type": "stream",
     "text": [
      "MoviePy - Writing audio in ./audio/gBR_sBM_c01_d04_mBR1_ch09.wav\n",
      "MoviePy - Done.\n"
     ]
    },
    {
     "name": "stderr",
     "output_type": "stream",
     "text": [
      "processing:  85%|████████▌ | 17/20 [00:08<00:01,  1.88it/s]\n",
      "chunk:   0%|          | 0/265 [00:00<?, ?it/s, now=None]\u001B[A\n",
      "chunk:  77%|███████▋  | 204/265 [00:00<00:00, 1849.59it/s, now=None]\u001B[A\n",
      "processing:  90%|█████████ | 18/20 [00:08<00:00,  2.00it/s]         \u001B[A"
     ]
    },
    {
     "name": "stdout",
     "output_type": "stream",
     "text": [
      "MoviePy - Writing audio in ./audio/gBR_sBM_c01_d04_mBR0_ch09.wav\n",
      "MoviePy - Done.\n"
     ]
    },
    {
     "name": "stderr",
     "output_type": "stream",
     "text": [
      "processing:  90%|█████████ | 18/20 [00:08<00:00,  2.00it/s]\n",
      "chunk:   0%|          | 0/265 [00:00<?, ?it/s, now=None]\u001B[A\n",
      "chunk:  58%|█████▊    | 153/265 [00:00<00:00, 1528.33it/s, now=None]\u001B[A\n",
      "processing:  95%|█████████▌| 19/20 [00:08<00:00,  2.06it/s]         \u001B[A"
     ]
    },
    {
     "name": "stdout",
     "output_type": "stream",
     "text": [
      "MoviePy - Writing audio in ./audio/gBR_sBM_c01_d04_mBR0_ch08.wav\n",
      "MoviePy - Done.\n"
     ]
    },
    {
     "name": "stderr",
     "output_type": "stream",
     "text": [
      "processing:  95%|█████████▌| 19/20 [00:09<00:00,  2.06it/s]\n",
      "chunk:   0%|          | 0/236 [00:00<?, ?it/s, now=None]\u001B[A\n",
      "chunk:  68%|██████▊   | 161/236 [00:00<00:00, 1607.61it/s, now=None]\u001B[A\n",
      "processing: 100%|██████████| 20/20 [00:09<00:00,  2.17it/s]         \u001B[A"
     ]
    },
    {
     "name": "stdout",
     "output_type": "stream",
     "text": [
      "MoviePy - Writing audio in ./audio/gBR_sBM_c01_d04_mBR1_ch08.wav\n",
      "MoviePy - Done.\n"
     ]
    },
    {
     "name": "stderr",
     "output_type": "stream",
     "text": [
      "\n"
     ]
    }
   ],
   "source": [
    "video_list=os.listdir(video_path)\n",
    "for file in tqdm((video_list),desc='processing'):\n",
    "    if('.mp4' in file):\n",
    "        video = VideoFileClip(video_path+\"/\"+file)\n",
    "        audio = video.audio\n",
    "        #print(file.replace(\".mp4\", \".wav\"))\n",
    "        (audio.write_audiofile(audio_path+'/'+file.replace(\".mp4\", \".wav\")))"
   ],
   "metadata": {
    "collapsed": false,
    "pycharm": {
     "name": "#%%\n"
    }
   }
  },
  {
   "cell_type": "markdown",
   "source": [
    "2.使用librosa进行音频处理\n",
    "2.1 120帧的video和60帧的audio"
   ],
   "metadata": {
    "collapsed": false
   }
  },
  {
   "cell_type": "code",
   "execution_count": 4,
   "outputs": [],
   "source": [
    "import librosa\n",
    "import librosa.display\n",
    "import matplotlib.pyplot as plt\n",
    "import torch\n",
    "import numpy as np\n",
    "from sklearn import preprocessing\n",
    "from sklearn.preprocessing import LabelEncoder,OneHotEncoder"
   ],
   "metadata": {
    "collapsed": false,
    "pycharm": {
     "name": "#%%\n"
    }
   }
  },
  {
   "cell_type": "code",
   "execution_count": 25,
   "outputs": [
    {
     "name": "stderr",
     "output_type": "stream",
     "text": [
      "processing audio:   0%|          | 0/20 [00:00<?, ?it/s]"
     ]
    },
    {
     "name": "stdout",
     "output_type": "stream",
     "text": [
      "[-3.05175781e-05  0.00000000e+00  0.00000000e+00 ... -4.54467773e-01\n",
      " -4.80148315e-01 -3.85620117e-01]\n",
      "(20, 2)\n"
     ]
    },
    {
     "name": "stderr",
     "output_type": "stream",
     "text": [
      "\n"
     ]
    },
    {
     "ename": "ParameterError",
     "evalue": "Target size (2048) must be at least input size (2940)",
     "output_type": "error",
     "traceback": [
      "\u001B[0;31m---------------------------------------------------------------------------\u001B[0m",
      "\u001B[0;31mParameterError\u001B[0m                            Traceback (most recent call last)",
      "\u001B[0;32m<ipython-input-25-be2f48f74a03>\u001B[0m in \u001B[0;36m<module>\u001B[0;34m\u001B[0m\n\u001B[1;32m     40\u001B[0m         \u001B[0mmfccs_tmp\u001B[0m\u001B[0;34m=\u001B[0m\u001B[0mlibrosa\u001B[0m\u001B[0;34m.\u001B[0m\u001B[0mfeature\u001B[0m\u001B[0;34m.\u001B[0m\u001B[0mmfcc\u001B[0m\u001B[0;34m(\u001B[0m\u001B[0my\u001B[0m\u001B[0;34m=\u001B[0m\u001B[0maudio_dist\u001B[0m\u001B[0;34m[\u001B[0m\u001B[0mi\u001B[0m\u001B[0;34m*\u001B[0m\u001B[0mframe_shift\u001B[0m\u001B[0;34m:\u001B[0m\u001B[0mi\u001B[0m\u001B[0;34m*\u001B[0m\u001B[0mframe_shift\u001B[0m\u001B[0;34m+\u001B[0m\u001B[0mframe_length\u001B[0m\u001B[0;34m]\u001B[0m\u001B[0;34m,\u001B[0m\u001B[0msr\u001B[0m\u001B[0;34m=\u001B[0m\u001B[0msr\u001B[0m\u001B[0;34m,\u001B[0m\u001B[0mn_mfcc\u001B[0m\u001B[0;34m=\u001B[0m\u001B[0;36m20\u001B[0m\u001B[0;34m,\u001B[0m\u001B[0mhop_length\u001B[0m\u001B[0;34m=\u001B[0m\u001B[0mframe_length\u001B[0m\u001B[0;34m)\u001B[0m\u001B[0;34m\u001B[0m\u001B[0;34m\u001B[0m\u001B[0m\n\u001B[1;32m     41\u001B[0m         \u001B[0mprint\u001B[0m\u001B[0;34m(\u001B[0m\u001B[0mmfccs_tmp\u001B[0m\u001B[0;34m.\u001B[0m\u001B[0mshape\u001B[0m\u001B[0;34m)\u001B[0m\u001B[0;34m\u001B[0m\u001B[0;34m\u001B[0m\u001B[0m\n\u001B[0;32m---> 42\u001B[0;31m         \u001B[0mchroma_tmp\u001B[0m\u001B[0;34m=\u001B[0m\u001B[0mlibrosa\u001B[0m\u001B[0;34m.\u001B[0m\u001B[0mfeature\u001B[0m\u001B[0;34m.\u001B[0m\u001B[0mchroma_stft\u001B[0m\u001B[0;34m(\u001B[0m\u001B[0maudio_dist\u001B[0m\u001B[0;34m[\u001B[0m\u001B[0mi\u001B[0m\u001B[0;34m*\u001B[0m\u001B[0mframe_shift\u001B[0m\u001B[0;34m:\u001B[0m\u001B[0mi\u001B[0m\u001B[0;34m*\u001B[0m\u001B[0mframe_shift\u001B[0m\u001B[0;34m+\u001B[0m\u001B[0mframe_length\u001B[0m\u001B[0;34m]\u001B[0m\u001B[0;34m,\u001B[0m\u001B[0msr\u001B[0m\u001B[0;34m=\u001B[0m\u001B[0msr\u001B[0m\u001B[0;34m,\u001B[0m\u001B[0mhop_length\u001B[0m\u001B[0;34m=\u001B[0m\u001B[0mhop_length\u001B[0m\u001B[0;34m,\u001B[0m\u001B[0mwin_length\u001B[0m\u001B[0;34m=\u001B[0m\u001B[0mwin_length\u001B[0m\u001B[0;34m,\u001B[0m\u001B[0mn_chroma\u001B[0m\u001B[0;34m=\u001B[0m\u001B[0;36m12\u001B[0m\u001B[0;34m)\u001B[0m\u001B[0;34m\u001B[0m\u001B[0;34m\u001B[0m\u001B[0m\n\u001B[0m\u001B[1;32m     43\u001B[0m \u001B[0;34m\u001B[0m\u001B[0m\n\u001B[1;32m     44\u001B[0m         \u001B[0moneset_env_tmp\u001B[0m \u001B[0;34m=\u001B[0m \u001B[0mlibrosa\u001B[0m\u001B[0;34m.\u001B[0m\u001B[0monset\u001B[0m\u001B[0;34m.\u001B[0m\u001B[0monset_strength\u001B[0m\u001B[0;34m(\u001B[0m\u001B[0my\u001B[0m\u001B[0;34m=\u001B[0m\u001B[0maudio_dist\u001B[0m\u001B[0;34m[\u001B[0m\u001B[0mi\u001B[0m\u001B[0;34m*\u001B[0m\u001B[0mframe_shift\u001B[0m\u001B[0;34m:\u001B[0m\u001B[0mi\u001B[0m\u001B[0;34m*\u001B[0m\u001B[0mframe_shift\u001B[0m\u001B[0;34m+\u001B[0m\u001B[0mframe_length\u001B[0m\u001B[0;34m]\u001B[0m\u001B[0;34m,\u001B[0m\u001B[0msr\u001B[0m\u001B[0;34m=\u001B[0m\u001B[0msr\u001B[0m\u001B[0;34m,\u001B[0m\u001B[0mhop_length\u001B[0m\u001B[0;34m=\u001B[0m\u001B[0mhop_length\u001B[0m\u001B[0;34m,\u001B[0m\u001B[0maggregate\u001B[0m\u001B[0;34m=\u001B[0m\u001B[0mnp\u001B[0m\u001B[0;34m.\u001B[0m\u001B[0mmedian\u001B[0m\u001B[0;34m)\u001B[0m\u001B[0;34m\u001B[0m\u001B[0;34m\u001B[0m\u001B[0m\n",
      "\u001B[0;32m/opt/anaconda3/envs/scikit_learn/lib/python3.8/site-packages/librosa/feature/spectral.py\u001B[0m in \u001B[0;36mchroma_stft\u001B[0;34m(y, sr, S, norm, n_fft, hop_length, win_length, window, center, pad_mode, tuning, n_chroma, **kwargs)\u001B[0m\n\u001B[1;32m   1296\u001B[0m     \"\"\"\n\u001B[1;32m   1297\u001B[0m \u001B[0;34m\u001B[0m\u001B[0m\n\u001B[0;32m-> 1298\u001B[0;31m     S, n_fft = _spectrogram(\n\u001B[0m\u001B[1;32m   1299\u001B[0m         \u001B[0my\u001B[0m\u001B[0;34m=\u001B[0m\u001B[0my\u001B[0m\u001B[0;34m,\u001B[0m\u001B[0;34m\u001B[0m\u001B[0;34m\u001B[0m\u001B[0m\n\u001B[1;32m   1300\u001B[0m         \u001B[0mS\u001B[0m\u001B[0;34m=\u001B[0m\u001B[0mS\u001B[0m\u001B[0;34m,\u001B[0m\u001B[0;34m\u001B[0m\u001B[0;34m\u001B[0m\u001B[0m\n",
      "\u001B[0;32m/opt/anaconda3/envs/scikit_learn/lib/python3.8/site-packages/librosa/core/spectrum.py\u001B[0m in \u001B[0;36m_spectrogram\u001B[0;34m(y, S, n_fft, hop_length, power, win_length, window, center, pad_mode)\u001B[0m\n\u001B[1;32m   2510\u001B[0m         S = (\n\u001B[1;32m   2511\u001B[0m             np.abs(\n\u001B[0;32m-> 2512\u001B[0;31m                 stft(\n\u001B[0m\u001B[1;32m   2513\u001B[0m                     \u001B[0my\u001B[0m\u001B[0;34m,\u001B[0m\u001B[0;34m\u001B[0m\u001B[0;34m\u001B[0m\u001B[0m\n\u001B[1;32m   2514\u001B[0m                     \u001B[0mn_fft\u001B[0m\u001B[0;34m=\u001B[0m\u001B[0mn_fft\u001B[0m\u001B[0;34m,\u001B[0m\u001B[0;34m\u001B[0m\u001B[0;34m\u001B[0m\u001B[0m\n",
      "\u001B[0;32m/opt/anaconda3/envs/scikit_learn/lib/python3.8/site-packages/librosa/core/spectrum.py\u001B[0m in \u001B[0;36mstft\u001B[0;34m(y, n_fft, hop_length, win_length, window, center, dtype, pad_mode)\u001B[0m\n\u001B[1;32m    209\u001B[0m \u001B[0;34m\u001B[0m\u001B[0m\n\u001B[1;32m    210\u001B[0m     \u001B[0;31m# Pad the window out to n_fft size\u001B[0m\u001B[0;34m\u001B[0m\u001B[0;34m\u001B[0m\u001B[0;34m\u001B[0m\u001B[0m\n\u001B[0;32m--> 211\u001B[0;31m     \u001B[0mfft_window\u001B[0m \u001B[0;34m=\u001B[0m \u001B[0mutil\u001B[0m\u001B[0;34m.\u001B[0m\u001B[0mpad_center\u001B[0m\u001B[0;34m(\u001B[0m\u001B[0mfft_window\u001B[0m\u001B[0;34m,\u001B[0m \u001B[0mn_fft\u001B[0m\u001B[0;34m)\u001B[0m\u001B[0;34m\u001B[0m\u001B[0;34m\u001B[0m\u001B[0m\n\u001B[0m\u001B[1;32m    212\u001B[0m \u001B[0;34m\u001B[0m\u001B[0m\n\u001B[1;32m    213\u001B[0m     \u001B[0;31m# Reshape so that the window can be broadcast\u001B[0m\u001B[0;34m\u001B[0m\u001B[0;34m\u001B[0m\u001B[0;34m\u001B[0m\u001B[0m\n",
      "\u001B[0;32m/opt/anaconda3/envs/scikit_learn/lib/python3.8/site-packages/librosa/util/utils.py\u001B[0m in \u001B[0;36mpad_center\u001B[0;34m(data, size, axis, **kwargs)\u001B[0m\n\u001B[1;32m    445\u001B[0m \u001B[0;34m\u001B[0m\u001B[0m\n\u001B[1;32m    446\u001B[0m     \u001B[0;32mif\u001B[0m \u001B[0mlpad\u001B[0m \u001B[0;34m<\u001B[0m \u001B[0;36m0\u001B[0m\u001B[0;34m:\u001B[0m\u001B[0;34m\u001B[0m\u001B[0;34m\u001B[0m\u001B[0m\n\u001B[0;32m--> 447\u001B[0;31m         raise ParameterError(\n\u001B[0m\u001B[1;32m    448\u001B[0m             \u001B[0;34m(\u001B[0m\u001B[0;34m\"Target size ({:d}) must be \"\u001B[0m \u001B[0;34m\"at least input size ({:d})\"\u001B[0m\u001B[0;34m)\u001B[0m\u001B[0;34m.\u001B[0m\u001B[0mformat\u001B[0m\u001B[0;34m(\u001B[0m\u001B[0msize\u001B[0m\u001B[0;34m,\u001B[0m \u001B[0mn\u001B[0m\u001B[0;34m)\u001B[0m\u001B[0;34m\u001B[0m\u001B[0;34m\u001B[0m\u001B[0m\n\u001B[1;32m    449\u001B[0m         )\n",
      "\u001B[0;31mParameterError\u001B[0m: Target size (2048) must be at least input size (2940)"
     ]
    }
   ],
   "source": [
    "data=list()\n",
    "for audiofile in tqdm(os.listdir(audio_path),desc=\"processing audio\"):\n",
    "    envelop = audiofile\n",
    "    start=0\n",
    "    duration = 4\n",
    "    fps=60\n",
    "    stop = start + duration\n",
    "    y,sr=librosa.load(audio_path+\"/\"+audiofile,sr=None,offset = start, duration = duration)#sr是采样率,None指原生采样率\n",
    "\n",
    "    audio_duration = librosa.get_duration(y,sr)\n",
    "    '''\n",
    "    分帧就是将原始语音信号分成大小固定的N段语音信号，这里每一段语音信号都被称为一帧，\n",
    "    帧长一般取10到30ms。分帧一般采用交叠分段的方法，是为了使帧与帧之间平滑过渡\n",
    "    保持其连续性。前一帧和后一帧的交叠部分称为帧移，帧移与帧长的比值一般取为0-1/2。\n",
    "    '''\n",
    "    y,sr\n",
    "    audio_dist = y\n",
    "    frame_shift = int(sr/(fps+4))#帧移，保证60个都有正常数据 4代表着framelength和shift之间的比值\n",
    "    frame_length = frame_shift*4#帧长\n",
    "    #print(audio_dist[0].dtype) float 32\n",
    "    #audio_dist=np.append(np.array(audio_dist),np.zeros(frame_length-frame_shift))#这里补0\n",
    "    hop_length =int(frame_shift) #frame_shift * sr窗口每部滑动距离（跳长）\n",
    "    win_length = int(frame_length)#窗口样本\n",
    "    hop_length\n",
    "    '''\n",
    "    plt.figure()\n",
    "    librosa.display.waveplot(audio_dist,sr)\n",
    "    #librosa.display.waveplot(audio_dist,sr)\n",
    "    '''\n",
    "    mfccs=np.array([])\n",
    "    chroma=np.array([])\n",
    "    peak=np.array([])\n",
    "    #tempo=np.array([])\n",
    "    beats=np.array([])\n",
    "    for i in range(fps*duration):\n",
    "        '''\n",
    "        mfcc返回 (n_mfcc,a)的向量，a=ceil(autioframelength / 帧移)\n",
    "        '''\n",
    "        print(audio_dist[i*frame_shift:i*frame_shift+frame_length])\n",
    "        mfccs_tmp=librosa.feature.mfcc(y=audio_dist[i*frame_shift:i*frame_shift+frame_length],sr=sr,n_mfcc=20,hop_length=frame_length)\n",
    "        print(mfccs_tmp.shape)\n",
    "        chroma_tmp=librosa.feature.chroma_stft(audio_dist[i*frame_shift:i*frame_shift+frame_length],sr=sr,hop_length=hop_length,win_length=win_length,n_chroma=12)\n",
    "\n",
    "        oneset_env_tmp = librosa.onset.onset_strength(y=audio_dist[i*frame_shift:i*frame_shift+frame_length],sr=sr,hop_length=hop_length,aggregate=np.median)\n",
    "        peak_tmp = librosa.util.peak_pick(oneset_env_tmp,1,1,1,1,0.8,5)#公式来决定的，具体参数最后两个比较重要，后面需要调整\n",
    "        tempo,beats_tmp = librosa.beat.beat_track(y=audio_dist[i*frame_shift:i*frame_shift+frame_length],sr=sr,hop_length=hop_length)\n",
    "        print(mfccs_tmp.shape)\n",
    "        break\n",
    "    '''\n",
    "    value=np.array(peak)\n",
    "    label_encoder=LabelEncoder()\n",
    "    integer_encoded = label_encoder.fit_transform(value)\n",
    "    print(integer_encoded)\n",
    "    onehot_encoder = OneHotEncoder(sparse=False)\n",
    "    integer_encoded = integer_encoded.reshape(len(integer_encoded), 1)\n",
    "    onehot_encoded = onehot_encoder.fit_transform(integer_encoded)\n",
    "    print(onehot_encoded)\n",
    "    '''\n",
    "\n",
    "\n",
    "    #print(\"tempo\",tempo, \"\\nbeat_frames\",beats)\n",
    "    #tmp=envelop+mfccs+chroma+peak+beats\n",
    "    envelop=np.asarray(envelop)\n",
    "    envelop=np.asarray([[[envelop]]])\n",
    "    mfccs=np.asarray([mfccs])\n",
    "    chroma=np.asarray([chroma])\n",
    "    peak=np.asarray([[peak]])\n",
    "    beats=np.asarray([[beats]])\n",
    "    print(envelop.shape)\n",
    "    print(mfccs.shape)\n",
    "    print(chroma.shape)\n",
    "    print(peak.shape)\n",
    "    print(beats.shape)\n",
    "\n",
    "\n",
    "    tmp=np.concatenate((envelop,mfccs),axis=1)\n",
    "    print(tmp.shape)\n",
    "\n",
    "    '''\n",
    "    # Display click waveform next to the spectrogram\n",
    "    plt.figure()\n",
    "    S = librosa.feature.melspectrogram(y=audio_dist, sr=sr)\n",
    "    ax = plt.subplot(2,1,2)\n",
    "    librosa.display.specshow(librosa.power_to_db(S, ref=np.max),\n",
    "                             x_axis='time', y_axis='mel')\n",
    "    plt.subplot(2,1,1, sharex=ax)\n",
    "    librosa.display.waveplot(beats, sr=sr, label='Beat clicks')\n",
    "    plt.legend()\n",
    "    plt.xlim(15, 30)\n",
    "    plt.tight_layout()\n",
    "    '''\n",
    "    break\n",
    "\n"
   ],
   "metadata": {
    "collapsed": false,
    "pycharm": {
     "name": "#%%\n"
    }
   }
  },
  {
   "cell_type": "code",
   "execution_count": null,
   "outputs": [],
   "source": [],
   "metadata": {
    "collapsed": false,
    "pycharm": {
     "name": "#%%\n"
    }
   }
  }
 ],
 "metadata": {
  "kernelspec": {
   "name": "pycharm-5343eecf",
   "language": "python",
   "display_name": "PyCharm (Pytorch-pratice)"
  },
  "language_info": {
   "codemirror_mode": {
    "name": "ipython",
    "version": 2
   },
   "file_extension": ".py",
   "mimetype": "text/x-python",
   "name": "python",
   "nbconvert_exporter": "python",
   "pygments_lexer": "ipython2",
   "version": "2.7.6"
  }
 },
 "nbformat": 4,
 "nbformat_minor": 0
}