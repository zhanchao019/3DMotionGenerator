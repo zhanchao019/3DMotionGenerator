{
 "cells": [
  {
   "cell_type": "markdown",
   "source": [
    "1. 导入模块将wav无损音频分离到audio文件夹中"
   ],
   "metadata": {
    "collapsed": false,
    "pycharm": {
     "name": "#%% md\n"
    }
   }
  },
  {
   "cell_type": "code",
   "execution_count": null,
   "outputs": [],
   "source": [
    "import os\n",
    "from tqdm import tqdm, trange\n",
    "import time\n",
    "from moviepy.editor import *\n",
    "video_path=\"./video\"\n",
    "audio_path=\"./audio\""
   ],
   "metadata": {
    "collapsed": false,
    "pycharm": {
     "name": "#%%\n"
    }
   }
  },
  {
   "cell_type": "code",
   "execution_count": 24,
   "outputs": [
    {
     "name": "stderr",
     "output_type": "stream",
     "text": [
      "processing:   0%|          | 0/20 [00:00<?, ?it/s]\n",
      "chunk:   0%|          | 0/236 [00:00<?, ?it/s, now=None]\u001B[A\n",
      "chunk:  86%|████████▋ | 204/236 [00:00<00:00, 1882.53it/s, now=None]\u001B[A\n",
      "processing:   5%|▌         | 1/20 [00:00<00:06,  2.79it/s]          \u001B[A\n",
      "chunk:   0%|          | 0/265 [00:00<?, ?it/s, now=None]\u001B[A\n",
      "chunk:  77%|███████▋  | 204/265 [00:00<00:00, 2027.23it/s, now=None]\u001B[A\n",
      "processing:  10%|█         | 2/20 [00:00<00:06,  2.90it/s]          \u001B[A\n",
      "chunk:   0%|          | 0/265 [00:00<?, ?it/s, now=None]\u001B[A\n",
      "chunk:  77%|███████▋  | 204/265 [00:00<00:00, 1990.88it/s, now=None]\u001B[A\n",
      "processing:  15%|█▌        | 3/20 [00:01<00:05,  2.88it/s]          \u001B[A\n",
      "chunk:   0%|          | 0/236 [00:00<?, ?it/s, now=None]\u001B[A\n",
      "processing:  20%|██        | 4/20 [00:01<00:05,  2.93it/s]A\n",
      "chunk:   0%|          | 0/265 [00:00<?, ?it/s, now=None]\u001B[A\n",
      "chunk:  77%|███████▋  | 204/265 [00:00<00:00, 1946.14it/s, now=None]\u001B[A\n",
      "processing:  25%|██▌       | 5/20 [00:01<00:05,  2.93it/s]          \u001B[A\n",
      "chunk:   0%|          | 0/236 [00:00<?, ?it/s, now=None]\u001B[A\n",
      "chunk:  86%|████████▋ | 204/236 [00:00<00:00, 2008.31it/s, now=None]\u001B[A\n",
      "processing:  30%|███       | 6/20 [00:02<00:05,  2.47it/s]          \u001B[A\n",
      "chunk:   0%|          | 0/265 [00:00<?, ?it/s, now=None]\u001B[A\n",
      "chunk:  77%|███████▋  | 204/265 [00:00<00:00, 2009.69it/s, now=None]\u001B[A\n",
      "processing:  35%|███▌      | 7/20 [00:02<00:04,  2.60it/s]          \u001B[A\n",
      "chunk:   0%|          | 0/236 [00:00<?, ?it/s, now=None]\u001B[A\n",
      "processing:  40%|████      | 8/20 [00:03<00:04,  2.79it/s]A\n",
      "chunk:   0%|          | 0/236 [00:00<?, ?it/s, now=None]\u001B[A\n",
      "processing:  45%|████▌     | 9/20 [00:03<00:03,  2.87it/s]A\n",
      "chunk:   0%|          | 0/265 [00:00<?, ?it/s, now=None]\u001B[A\n",
      "chunk:  86%|████████▌ | 227/265 [00:00<00:00, 2264.82it/s, now=None]\u001B[A\n",
      "processing:  50%|█████     | 10/20 [00:03<00:03,  2.87it/s]         \u001B[A\n",
      "chunk:   0%|          | 0/236 [00:00<?, ?it/s, now=None]\u001B[A\n",
      "processing:  55%|█████▌    | 11/20 [00:04<00:03,  2.96it/s]\n",
      "chunk:   0%|          | 0/265 [00:00<?, ?it/s, now=None]\u001B[A\n",
      "chunk:  95%|█████████▌| 252/265 [00:00<00:00, 2518.90it/s, now=None]\u001B[A\n",
      "processing:  60%|██████    | 12/20 [00:04<00:02,  3.01it/s]         \u001B[A\n",
      "chunk:   0%|          | 0/236 [00:00<?, ?it/s, now=None]\u001B[A\n",
      "chunk:  96%|█████████▌| 227/236 [00:00<00:00, 2269.77it/s, now=None]\u001B[A\n",
      "processing:  65%|██████▌   | 13/20 [00:04<00:02,  3.01it/s]         \u001B[A\n",
      "chunk:   0%|          | 0/265 [00:00<?, ?it/s, now=None]\u001B[A\n",
      "chunk:  86%|████████▋ | 229/265 [00:00<00:00, 2286.62it/s, now=None]\u001B[A\n",
      "processing:  70%|███████   | 14/20 [00:05<00:01,  3.02it/s]         \u001B[A\n",
      "chunk:   0%|          | 0/265 [00:00<?, ?it/s, now=None]\u001B[A\n",
      "chunk:  80%|████████  | 212/265 [00:00<00:00, 2119.96it/s, now=None]\u001B[A\n",
      "processing:  75%|███████▌  | 15/20 [00:05<00:01,  3.01it/s]         \u001B[A\n",
      "chunk:   0%|          | 0/236 [00:00<?, ?it/s, now=None]\u001B[A\n",
      "chunk:  86%|████████▋ | 204/236 [00:00<00:00, 1814.37it/s, now=None]\u001B[A\n",
      "processing:  80%|████████  | 16/20 [00:05<00:01,  2.91it/s]         \u001B[A\n",
      "chunk:   0%|          | 0/236 [00:00<?, ?it/s, now=None]\u001B[A\n",
      "chunk:  86%|████████▌ | 203/236 [00:00<00:00, 2028.67it/s, now=None]\u001B[A\n",
      "processing:  85%|████████▌ | 17/20 [00:06<00:01,  2.79it/s]         \u001B[A\n",
      "chunk:   0%|          | 0/265 [00:00<?, ?it/s, now=None]\u001B[A\n",
      "chunk:  96%|█████████▌| 255/265 [00:00<00:00, 2497.37it/s, now=None]\u001B[A\n",
      "processing:  90%|█████████ | 18/20 [00:06<00:00,  2.29it/s]         \u001B[A\n",
      "chunk:   0%|          | 0/265 [00:00<?, ?it/s, now=None]\u001B[A\n",
      "chunk:  89%|████████▉ | 236/265 [00:00<00:00, 2356.49it/s, now=None]\u001B[A\n",
      "processing:  95%|█████████▌| 19/20 [00:07<00:00,  2.46it/s]         \u001B[A\n",
      "chunk:   0%|          | 0/236 [00:00<?, ?it/s, now=None]\u001B[A\n",
      "chunk:  86%|████████▌ | 202/236 [00:00<00:00, 2014.42it/s, now=None]\u001B[A\n",
      "processing: 100%|██████████| 20/20 [00:07<00:00,  2.75it/s]         \u001B[A\n"
     ]
    },
    {
     "name": "stdout",
     "output_type": "stream",
     "text": [
      "MoviePy - Writing audio in ./audio/gBR_sBM_c01_d04_mBR1_ch06.wav\n",
      "MoviePy - Done.\n",
      "MoviePy - Writing audio in ./audio/gBR_sBM_c01_d04_mBR0_ch06.wav\n",
      "MoviePy - Done.\n",
      "MoviePy - Writing audio in ./audio/gBR_sBM_c01_d04_mBR0_ch07.wav\n",
      "MoviePy - Done.\n",
      "MoviePy - Writing audio in ./audio/gBR_sBM_c01_d04_mBR1_ch07.wav\n",
      "MoviePy - Done.\n",
      "MoviePy - Writing audio in ./audio/gBR_sBM_c01_d04_mBR0_ch05.wav\n",
      "MoviePy - Done.\n",
      "MoviePy - Writing audio in ./audio/gBR_sBM_c01_d04_mBR1_ch05.wav\n",
      "MoviePy - Done.\n",
      "MoviePy - Writing audio in ./audio/gBR_sBM_c01_d04_mBR0_ch10.wav\n",
      "MoviePy - Done.\n",
      "MoviePy - Writing audio in ./audio/gBR_sBM_c01_d04_mBR1_ch04.wav\n",
      "MoviePy - Done.\n",
      "MoviePy - Writing audio in ./audio/gBR_sBM_c01_d04_mBR1_ch10.wav\n",
      "MoviePy - Done.\n",
      "MoviePy - Writing audio in ./audio/gBR_sBM_c01_d04_mBR0_ch04.wav\n",
      "MoviePy - Done.\n",
      "MoviePy - Writing audio in ./audio/gBR_sBM_c01_d04_mBR1_ch01.wav\n",
      "MoviePy - Done.\n",
      "MoviePy - Writing audio in ./audio/gBR_sBM_c01_d04_mBR0_ch01.wav\n",
      "MoviePy - Done.\n",
      "MoviePy - Writing audio in ./audio/gBR_sBM_c01_d04_mBR1_ch03.wav\n",
      "MoviePy - Done.\n",
      "MoviePy - Writing audio in ./audio/gBR_sBM_c01_d04_mBR0_ch03.wav\n",
      "MoviePy - Done.\n",
      "MoviePy - Writing audio in ./audio/gBR_sBM_c01_d04_mBR0_ch02.wav\n",
      "MoviePy - Done.\n",
      "MoviePy - Writing audio in ./audio/gBR_sBM_c01_d04_mBR1_ch02.wav\n",
      "MoviePy - Done.\n",
      "MoviePy - Writing audio in ./audio/gBR_sBM_c01_d04_mBR1_ch09.wav\n",
      "MoviePy - Done.\n",
      "MoviePy - Writing audio in ./audio/gBR_sBM_c01_d04_mBR0_ch09.wav\n",
      "MoviePy - Done.\n",
      "MoviePy - Writing audio in ./audio/gBR_sBM_c01_d04_mBR0_ch08.wav\n",
      "MoviePy - Done.\n",
      "MoviePy - Writing audio in ./audio/gBR_sBM_c01_d04_mBR1_ch08.wav\n",
      "MoviePy - Done.\n"
     ]
    }
   ],
   "source": [
    "video_list=os.listdir(video_path)\n",
    "#print(video_list)\n",
    "for file in tqdm((video_list),desc='processing'):\n",
    "    if('.mp4' in file):\n",
    "        video = VideoFileClip(video_path+\"/\"+file)\n",
    "        audio = video.audio\n",
    "        #print(file.replace(\".mp4\", \".wav\"))\n",
    "        (audio.write_audiofile(audio_path+'/'+file.replace(\".mp4\", \".wav\")))"
   ],
   "metadata": {
    "collapsed": false,
    "pycharm": {
     "name": "#%%\n"
    }
   }
  },
  {
   "cell_type": "markdown",
   "source": [
    "2.使用librosa进行音频处理\n"
   ],
   "metadata": {
    "collapsed": false
   }
  },
  {
   "cell_type": "code",
   "execution_count": 25,
   "outputs": [],
   "source": [
    "import librosa\n"
   ],
   "metadata": {
    "collapsed": false,
    "pycharm": {
     "name": "#%%\n"
    }
   }
  },
  {
   "cell_type": "code",
   "execution_count": null,
   "outputs": [],
   "source": [],
   "metadata": {
    "collapsed": false,
    "pycharm": {
     "name": "#%%\n"
    }
   }
  }
 ],
 "metadata": {
  "kernelspec": {
   "name": "pycharm-5343eecf",
   "language": "python",
   "display_name": "PyCharm (Pytorch-pratice)"
  },
  "language_info": {
   "codemirror_mode": {
    "name": "ipython",
    "version": 2
   },
   "file_extension": ".py",
   "mimetype": "text/x-python",
   "name": "python",
   "nbconvert_exporter": "python",
   "pygments_lexer": "ipython2",
   "version": "2.7.6"
  }
 },
 "nbformat": 4,
 "nbformat_minor": 0
}