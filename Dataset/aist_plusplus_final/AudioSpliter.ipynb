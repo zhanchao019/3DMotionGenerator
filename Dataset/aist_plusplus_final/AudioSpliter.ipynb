{
 "cells": [
  {
   "cell_type": "markdown",
   "source": [
    "1. 导入模块将wav无损音频分离到audio文件夹中"
   ],
   "metadata": {
    "collapsed": false,
    "pycharm": {
     "name": "#%% md\n"
    }
   }
  },
  {
   "cell_type": "code",
   "execution_count": 2,
   "outputs": [],
   "source": [
    "import os\n",
    "from tqdm import tqdm, trange\n",
    "import time\n",
    "from moviepy.editor import *\n",
    "video_path=\"./video\"\n",
    "audio_path=\"./audio\""
   ],
   "metadata": {
    "collapsed": false,
    "pycharm": {
     "name": "#%%\n"
    }
   }
  },
  {
   "cell_type": "code",
   "execution_count": 3,
   "outputs": [
    {
     "name": "stderr",
     "output_type": "stream",
     "text": [
      "processing:   0%|          | 0/20 [00:00<?, ?it/s]\n",
      "chunk:   0%|          | 0/236 [00:00<?, ?it/s, now=None]\u001B[A\n",
      "chunk:  65%|██████▍   | 153/236 [00:00<00:00, 1210.34it/s, now=None]\u001B[A\n",
      "processing:   5%|▌         | 1/20 [00:01<00:20,  1.08s/it]          \u001B[A\n",
      "chunk:   0%|          | 0/265 [00:00<?, ?it/s, now=None]\u001B[A\n",
      "chunk:  62%|██████▏   | 165/265 [00:00<00:00, 1649.49it/s, now=None]\u001B[A\n",
      "processing:  10%|█         | 2/20 [00:01<00:13,  1.32it/s]          \u001B[A\n",
      "chunk:   0%|          | 0/265 [00:00<?, ?it/s, now=None]\u001B[A\n",
      "chunk:  67%|██████▋   | 177/265 [00:00<00:00, 1767.95it/s, now=None]\u001B[A\n",
      "processing:  15%|█▌        | 3/20 [00:02<00:10,  1.58it/s]          \u001B[A\n",
      "chunk:   0%|          | 0/236 [00:00<?, ?it/s, now=None]\u001B[A\n",
      "chunk:  77%|███████▋  | 181/236 [00:00<00:00, 1802.59it/s, now=None]\u001B[A\n",
      "processing:  20%|██        | 4/20 [00:02<00:09,  1.76it/s]          \u001B[A\n",
      "chunk:   0%|          | 0/265 [00:00<?, ?it/s, now=None]\u001B[A\n",
      "chunk:  58%|█████▊    | 153/265 [00:00<00:00, 1475.38it/s, now=None]\u001B[A\n",
      "processing:  25%|██▌       | 5/20 [00:03<00:08,  1.84it/s]          \u001B[A\n",
      "chunk:   0%|          | 0/236 [00:00<?, ?it/s, now=None]\u001B[A\n",
      "chunk:  65%|██████▍   | 153/236 [00:00<00:00, 1300.07it/s, now=None]\u001B[A\n",
      "processing:  30%|███       | 6/20 [00:04<00:08,  1.74it/s]          \u001B[A\n",
      "chunk:   0%|          | 0/265 [00:00<?, ?it/s, now=None]\u001B[A\n",
      "chunk:  58%|█████▊    | 153/265 [00:00<00:00, 1463.68it/s, now=None]\u001B[A\n",
      "processing:  35%|███▌      | 7/20 [00:04<00:08,  1.62it/s]          \u001B[A\n",
      "chunk:   0%|          | 0/236 [00:00<?, ?it/s, now=None]\u001B[A\n",
      "chunk:  65%|██████▍   | 153/236 [00:00<00:00, 1261.52it/s, now=None]\u001B[A\n",
      "processing:  40%|████      | 8/20 [00:05<00:07,  1.66it/s]          \u001B[A\n",
      "chunk:   0%|          | 0/236 [00:00<?, ?it/s, now=None]\u001B[A\n",
      "chunk:  65%|██████▍   | 153/236 [00:00<00:00, 1257.09it/s, now=None]\u001B[A\n",
      "processing:  45%|████▌     | 9/20 [00:05<00:06,  1.69it/s]          \u001B[A\n",
      "chunk:   0%|          | 0/265 [00:00<?, ?it/s, now=None]\u001B[A\n",
      "chunk:  50%|████▉     | 132/265 [00:00<00:00, 1318.98it/s, now=None]\u001B[A\n",
      "chunk: 100%|█████████▉| 264/265 [00:00<00:00, 1172.96it/s, now=None]\u001B[A\n",
      "processing:  50%|█████     | 10/20 [00:06<00:06,  1.66it/s]         \u001B[A\n",
      "chunk:   0%|          | 0/236 [00:00<?, ?it/s, now=None]\u001B[A\n",
      "chunk:  65%|██████▍   | 153/236 [00:00<00:00, 1319.04it/s, now=None]\u001B[A\n",
      "processing:  55%|█████▌    | 11/20 [00:07<00:06,  1.44it/s]         \u001B[A\n",
      "chunk:   0%|          | 0/265 [00:00<?, ?it/s, now=None]\u001B[A\n",
      "chunk:  58%|█████▊    | 153/265 [00:00<00:00, 1318.75it/s, now=None]\u001B[A\n",
      "processing:  60%|██████    | 12/20 [00:07<00:05,  1.58it/s]         \u001B[A\n",
      "chunk:   0%|          | 0/236 [00:00<?, ?it/s, now=None]\u001B[A\n",
      "chunk:  56%|█████▌    | 131/236 [00:00<00:00, 1307.83it/s, now=None]\u001B[A\n",
      "processing:  65%|██████▌   | 13/20 [00:08<00:04,  1.66it/s]         \u001B[A\n",
      "chunk:   0%|          | 0/265 [00:00<?, ?it/s, now=None]\u001B[A\n",
      "chunk:  58%|█████▊    | 153/265 [00:00<00:00, 1463.17it/s, now=None]\u001B[A\n",
      "processing:  70%|███████   | 14/20 [00:08<00:03,  1.74it/s]         \u001B[A\n",
      "chunk:   0%|          | 0/265 [00:00<?, ?it/s, now=None]\u001B[A\n",
      "chunk:  58%|█████▊    | 153/265 [00:00<00:00, 1477.12it/s, now=None]\u001B[A\n",
      "processing:  75%|███████▌  | 15/20 [00:09<00:02,  1.81it/s]         \u001B[A\n",
      "chunk:   0%|          | 0/236 [00:00<?, ?it/s, now=None]\u001B[A\n",
      "chunk:  65%|██████▍   | 153/236 [00:00<00:00, 1417.28it/s, now=None]\u001B[A\n",
      "processing:  80%|████████  | 16/20 [00:10<00:02,  1.87it/s]         \u001B[A\n",
      "chunk:   0%|          | 0/236 [00:00<?, ?it/s, now=None]\u001B[A\n",
      "chunk:  65%|██████▍   | 153/236 [00:00<00:00, 1405.58it/s, now=None]\u001B[A\n",
      "processing:  85%|████████▌ | 17/20 [00:10<00:01,  1.82it/s]         \u001B[A\n",
      "chunk:   0%|          | 0/265 [00:00<?, ?it/s, now=None]\u001B[A\n",
      "chunk:  58%|█████▊    | 153/265 [00:00<00:00, 1395.72it/s, now=None]\u001B[A\n",
      "processing:  90%|█████████ | 18/20 [00:11<00:01,  1.79it/s]         \u001B[A\n",
      "chunk:   0%|          | 0/265 [00:00<?, ?it/s, now=None]\u001B[A\n",
      "chunk:  58%|█████▊    | 153/265 [00:00<00:00, 1334.05it/s, now=None]\u001B[A\n",
      "processing:  95%|█████████▌| 19/20 [00:11<00:00,  1.80it/s]         \u001B[A\n",
      "chunk:   0%|          | 0/236 [00:00<?, ?it/s, now=None]\u001B[A\n",
      "chunk:  65%|██████▍   | 153/236 [00:00<00:00, 1358.07it/s, now=None]\u001B[A\n",
      "processing: 100%|██████████| 20/20 [00:11<00:00,  1.69it/s]         \u001B[A\n"
     ]
    },
    {
     "name": "stdout",
     "output_type": "stream",
     "text": [
      "MoviePy - Writing audio in ./audio/gBR_sBM_c01_d04_mBR1_ch06.wav\n",
      "MoviePy - Done.\n",
      "MoviePy - Writing audio in ./audio/gBR_sBM_c01_d04_mBR0_ch06.wav\n",
      "MoviePy - Done.\n",
      "MoviePy - Writing audio in ./audio/gBR_sBM_c01_d04_mBR0_ch07.wav\n",
      "MoviePy - Done.\n",
      "MoviePy - Writing audio in ./audio/gBR_sBM_c01_d04_mBR1_ch07.wav\n",
      "MoviePy - Done.\n",
      "MoviePy - Writing audio in ./audio/gBR_sBM_c01_d04_mBR0_ch05.wav\n",
      "MoviePy - Done.\n",
      "MoviePy - Writing audio in ./audio/gBR_sBM_c01_d04_mBR1_ch05.wav\n",
      "MoviePy - Done.\n",
      "MoviePy - Writing audio in ./audio/gBR_sBM_c01_d04_mBR0_ch10.wav\n",
      "MoviePy - Done.\n",
      "MoviePy - Writing audio in ./audio/gBR_sBM_c01_d04_mBR1_ch04.wav\n",
      "MoviePy - Done.\n",
      "MoviePy - Writing audio in ./audio/gBR_sBM_c01_d04_mBR1_ch10.wav\n",
      "MoviePy - Done.\n",
      "MoviePy - Writing audio in ./audio/gBR_sBM_c01_d04_mBR0_ch04.wav\n",
      "MoviePy - Done.\n",
      "MoviePy - Writing audio in ./audio/gBR_sBM_c01_d04_mBR1_ch01.wav\n",
      "MoviePy - Done.\n",
      "MoviePy - Writing audio in ./audio/gBR_sBM_c01_d04_mBR0_ch01.wav\n",
      "MoviePy - Done.\n",
      "MoviePy - Writing audio in ./audio/gBR_sBM_c01_d04_mBR1_ch03.wav\n",
      "MoviePy - Done.\n",
      "MoviePy - Writing audio in ./audio/gBR_sBM_c01_d04_mBR0_ch03.wav\n",
      "MoviePy - Done.\n",
      "MoviePy - Writing audio in ./audio/gBR_sBM_c01_d04_mBR0_ch02.wav\n",
      "MoviePy - Done.\n",
      "MoviePy - Writing audio in ./audio/gBR_sBM_c01_d04_mBR1_ch02.wav\n",
      "MoviePy - Done.\n",
      "MoviePy - Writing audio in ./audio/gBR_sBM_c01_d04_mBR1_ch09.wav\n",
      "MoviePy - Done.\n",
      "MoviePy - Writing audio in ./audio/gBR_sBM_c01_d04_mBR0_ch09.wav\n",
      "MoviePy - Done.\n",
      "MoviePy - Writing audio in ./audio/gBR_sBM_c01_d04_mBR0_ch08.wav\n",
      "MoviePy - Done.\n",
      "MoviePy - Writing audio in ./audio/gBR_sBM_c01_d04_mBR1_ch08.wav\n",
      "MoviePy - Done.\n"
     ]
    }
   ],
   "source": [
    "video_list=os.listdir(video_path)\n",
    "for file in tqdm((video_list),desc='processing'):\n",
    "    if('.mp4' in file):\n",
    "        video = VideoFileClip(video_path+\"/\"+file)\n",
    "        audio = video.audio\n",
    "        #print(file.replace(\".mp4\", \".wav\"))\n",
    "        (audio.write_audiofile(audio_path+'/'+file.replace(\".mp4\", \".wav\")))"
   ],
   "metadata": {
    "collapsed": false,
    "pycharm": {
     "name": "#%%\n"
    }
   }
  },
  {
   "cell_type": "markdown",
   "source": [
    "2.使用librosa进行音频处理\n",
    "2.1 120帧的video和240帧的audio"
   ],
   "metadata": {
    "collapsed": false
   }
  },
  {
   "cell_type": "code",
   "execution_count": 9,
   "outputs": [],
   "source": [
    "import librosa\n",
    "import librosa.display\n",
    "import matplotlib.pyplot as plt\n",
    "import torch"
   ],
   "metadata": {
    "collapsed": false,
    "pycharm": {
     "name": "#%%\n"
    }
   }
  },
  {
   "cell_type": "code",
   "execution_count": 32,
   "outputs": [
    {
     "name": "stderr",
     "output_type": "stream",
     "text": [
      "processing audio:   0%|          | 0/20 [00:00<?, ?it/s]\n"
     ]
    },
    {
     "name": "stdout",
     "output_type": "stream",
     "text": [
      "735\n",
      "<class 'int'>\n"
     ]
    },
    {
     "data": {
      "text/plain": "<Figure size 432x288 with 1 Axes>",
      "image/png": "[encoded data removed]"
     },
     "metadata": {
      "needs_background": "light"
     },
     "output_type": "display_data"
    }
   ],
   "source": [
    "#frame_shift =\n",
    "for audiofile in tqdm(os.listdir(audio_path),desc=\"processing audio\"):\n",
    "    envelop = audiofile\n",
    "    y,sr=librosa.load(audio_path+\"/\"+audiofile,sr=None)#sr是采样率,None指原生采样率\n",
    "\n",
    "    audio_duration = librosa.get_duration(y,sr)\n",
    "\n",
    "    start=0\n",
    "    duration = 4\n",
    "    stop = start + duration\n",
    "    audio_dist = y[start*sr:stop*sr]\n",
    "    frame_shift = duration/240#帧长\n",
    "    frame_length = 0.03125#帧移\n",
    "    hop_length =int(duration * sr / 240) #frame_shift * sr\n",
    "    win_length = int(frame_length*sr)\n",
    "\n",
    "    print(hop_length)\n",
    "\n",
    "    plt.figure()\n",
    "    librosa.display.waveplot(audio_dist,sr)\n",
    "    #librosa.display.waveplot(audio_dist,sr)\n",
    "    mfccs=librosa.feature.mfcc(y=audio_dist,sr=sr,n_mfcc=20)\n",
    "    print(type(hop_length))\n",
    "    chroma=librosa.feature.chroma_stft(audio_dist,sr=sr,hop_length=hop_length,win_length=win_length)\n",
    "    #peaks=librosa.util.peak_pick()\n",
    "    break\n",
    "\n"
   ],
   "metadata": {
    "collapsed": false,
    "pycharm": {
     "name": "#%%\n"
    }
   }
  },
  {
   "cell_type": "code",
   "execution_count": 6,
   "outputs": [
    {
     "name": "stdout",
     "output_type": "stream",
     "text": [
      "/Users/zhanchao/GitHub/3DMotionGenerator/Dataset/aist_plusplus_final\n"
     ]
    }
   ],
   "source": [
    "print(os.getcwd())"
   ],
   "metadata": {
    "collapsed": false,
    "pycharm": {
     "name": "#%%\n"
    }
   }
  },
  {
   "cell_type": "code",
   "execution_count": null,
   "outputs": [],
   "source": [],
   "metadata": {
    "collapsed": false,
    "pycharm": {
     "name": "#%%\n"
    }
   }
  }
 ],
 "metadata": {
  "kernelspec": {
   "name": "pycharm-5343eecf",
   "language": "python",
   "display_name": "PyCharm (Pytorch-pratice)"
  },
  "language_info": {
   "codemirror_mode": {
    "name": "ipython",
    "version": 2
   },
   "file_extension": ".py",
   "mimetype": "text/x-python",
   "name": "python",
   "nbconvert_exporter": "python",
   "pygments_lexer": "ipython2",
   "version": "2.7.6"
  }
 },
 "nbformat": 4,
 "nbformat_minor": 0
}