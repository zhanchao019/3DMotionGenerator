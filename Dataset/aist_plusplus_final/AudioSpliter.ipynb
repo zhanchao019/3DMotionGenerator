{
 "cells": [
  {
   "cell_type": "markdown",
   "source": [
    "1. 导入模块将wav无损音频分离到audio文件夹中"
   ],
   "metadata": {
    "collapsed": false,
    "pycharm": {
     "name": "#%% md\n"
    }
   }
  },
  {
   "cell_type": "code",
   "execution_count": 11,
   "outputs": [],
   "source": [
    "import os\n",
    "from sklearn.preprocessing import OneHotEncoder, LabelEncoder\n",
    "from tqdm import tqdm, trange\n",
    "import time\n",
    "from moviepy.editor import *\n",
    "video_path=\"./video\"\n",
    "audio_path=\"./audio\""
   ],
   "metadata": {
    "collapsed": false,
    "pycharm": {
     "name": "#%%\n"
    }
   }
  },
  {
   "cell_type": "code",
   "execution_count": 47,
   "outputs": [
    {
     "name": "stderr",
     "output_type": "stream",
     "text": [
      "processing:   0%|          | 0/20 [00:00<?, ?it/s]\n",
      "chunk:   0%|          | 0/236 [00:00<?, ?it/s, now=None]\u001B[A\n",
      "chunk:  87%|████████▋ | 205/236 [00:00<00:00, 2046.97it/s, now=None]\u001B[A\n",
      "processing:   5%|▌         | 1/20 [00:00<00:10,  1.80it/s]          \u001B[A"
     ]
    },
    {
     "name": "stdout",
     "output_type": "stream",
     "text": [
      "MoviePy - Writing audio in ./audio/gBR_sBM_c01_d04_mBR1_ch06.wav\n",
      "MoviePy - Done.\n"
     ]
    },
    {
     "name": "stderr",
     "output_type": "stream",
     "text": [
      "processing:   5%|▌         | 1/20 [00:00<00:10,  1.80it/s]\n",
      "chunk:   0%|          | 0/265 [00:00<?, ?it/s, now=None]\u001B[A\n",
      "chunk:  69%|██████▊   | 182/265 [00:00<00:00, 1819.58it/s, now=None]\u001B[A\n",
      "processing:  10%|█         | 2/20 [00:01<00:10,  1.79it/s]          \u001B[A"
     ]
    },
    {
     "name": "stdout",
     "output_type": "stream",
     "text": [
      "MoviePy - Writing audio in ./audio/gBR_sBM_c01_d04_mBR0_ch06.wav\n",
      "MoviePy - Done.\n"
     ]
    },
    {
     "name": "stderr",
     "output_type": "stream",
     "text": [
      "processing:  10%|█         | 2/20 [00:01<00:10,  1.79it/s]\n",
      "chunk:   0%|          | 0/265 [00:00<?, ?it/s, now=None]\u001B[A\n",
      "chunk:  77%|███████▋  | 204/265 [00:00<00:00, 1725.07it/s, now=None]\u001B[A\n",
      "processing:  15%|█▌        | 3/20 [00:01<00:08,  2.06it/s]          \u001B[A"
     ]
    },
    {
     "name": "stdout",
     "output_type": "stream",
     "text": [
      "MoviePy - Writing audio in ./audio/gBR_sBM_c01_d04_mBR0_ch07.wav\n",
      "MoviePy - Done.\n"
     ]
    },
    {
     "name": "stderr",
     "output_type": "stream",
     "text": [
      "processing:  15%|█▌        | 3/20 [00:01<00:08,  2.06it/s]\n",
      "chunk:   0%|          | 0/236 [00:00<?, ?it/s, now=None]\u001B[A\n",
      "chunk:  43%|████▎     | 102/236 [00:00<00:00, 826.98it/s, now=None]\u001B[A"
     ]
    },
    {
     "name": "stdout",
     "output_type": "stream",
     "text": [
      "MoviePy - Writing audio in ./audio/gBR_sBM_c01_d04_mBR1_ch07.wav\n"
     ]
    },
    {
     "name": "stderr",
     "output_type": "stream",
     "text": [
      "\n",
      "chunk:  86%|████████▋ | 204/236 [00:00<00:00, 856.54it/s, now=None]\u001B[A\n",
      "processing:  20%|██        | 4/20 [00:02<00:09,  1.76it/s]         \u001B[A"
     ]
    },
    {
     "name": "stdout",
     "output_type": "stream",
     "text": [
      "MoviePy - Done.\n"
     ]
    },
    {
     "name": "stderr",
     "output_type": "stream",
     "text": [
      "processing:  20%|██        | 4/20 [00:02<00:09,  1.76it/s]\n",
      "chunk:   0%|          | 0/265 [00:00<?, ?it/s, now=None]\u001B[A\n",
      "chunk:  77%|███████▋  | 204/265 [00:00<00:00, 1938.06it/s, now=None]\u001B[A\n",
      "processing:  25%|██▌       | 5/20 [00:02<00:07,  2.02it/s]          \u001B[A"
     ]
    },
    {
     "name": "stdout",
     "output_type": "stream",
     "text": [
      "MoviePy - Writing audio in ./audio/gBR_sBM_c01_d04_mBR0_ch05.wav\n",
      "MoviePy - Done.\n"
     ]
    },
    {
     "name": "stderr",
     "output_type": "stream",
     "text": [
      "processing:  25%|██▌       | 5/20 [00:02<00:07,  2.02it/s]\n",
      "chunk:   0%|          | 0/236 [00:00<?, ?it/s, now=None]\u001B[A\n",
      "chunk:  66%|██████▌   | 155/236 [00:00<00:00, 1547.46it/s, now=None]\u001B[A\n",
      "processing:  30%|███       | 6/20 [00:02<00:06,  2.17it/s]          \u001B[A"
     ]
    },
    {
     "name": "stdout",
     "output_type": "stream",
     "text": [
      "MoviePy - Writing audio in ./audio/gBR_sBM_c01_d04_mBR1_ch05.wav\n",
      "MoviePy - Done.\n"
     ]
    },
    {
     "name": "stderr",
     "output_type": "stream",
     "text": [
      "processing:  30%|███       | 6/20 [00:03<00:06,  2.17it/s]\n",
      "chunk:   0%|          | 0/265 [00:00<?, ?it/s, now=None]\u001B[A\n",
      "chunk:  58%|█████▊    | 153/265 [00:00<00:00, 1349.40it/s, now=None]\u001B[A\n",
      "processing:  35%|███▌      | 7/20 [00:03<00:05,  2.18it/s]          \u001B[A"
     ]
    },
    {
     "name": "stdout",
     "output_type": "stream",
     "text": [
      "MoviePy - Writing audio in ./audio/gBR_sBM_c01_d04_mBR0_ch10.wav\n",
      "MoviePy - Done.\n"
     ]
    },
    {
     "name": "stderr",
     "output_type": "stream",
     "text": [
      "processing:  35%|███▌      | 7/20 [00:03<00:05,  2.18it/s]\n",
      "chunk:   0%|          | 0/236 [00:00<?, ?it/s, now=None]\u001B[A"
     ]
    },
    {
     "name": "stdout",
     "output_type": "stream",
     "text": [
      "MoviePy - Writing audio in ./audio/gBR_sBM_c01_d04_mBR1_ch04.wav\n"
     ]
    },
    {
     "name": "stderr",
     "output_type": "stream",
     "text": [
      "\n",
      "chunk:  88%|████████▊ | 208/236 [00:00<00:00, 2078.71it/s, now=None]\u001B[A\n",
      "processing:  40%|████      | 8/20 [00:03<00:05,  2.15it/s]          \u001B[A"
     ]
    },
    {
     "name": "stdout",
     "output_type": "stream",
     "text": [
      "MoviePy - Done.\n"
     ]
    },
    {
     "name": "stderr",
     "output_type": "stream",
     "text": [
      "processing:  40%|████      | 8/20 [00:04<00:05,  2.15it/s]\n",
      "chunk:   0%|          | 0/236 [00:00<?, ?it/s, now=None]\u001B[A\n",
      "chunk:  86%|████████▋ | 204/236 [00:00<00:00, 1967.86it/s, now=None]\u001B[A\n",
      "processing:  45%|████▌     | 9/20 [00:04<00:04,  2.34it/s]          \u001B[A"
     ]
    },
    {
     "name": "stdout",
     "output_type": "stream",
     "text": [
      "MoviePy - Writing audio in ./audio/gBR_sBM_c01_d04_mBR1_ch10.wav\n",
      "MoviePy - Done.\n"
     ]
    },
    {
     "name": "stderr",
     "output_type": "stream",
     "text": [
      "processing:  45%|████▌     | 9/20 [00:04<00:04,  2.34it/s]\n",
      "chunk:   0%|          | 0/265 [00:00<?, ?it/s, now=None]\u001B[A\n",
      "chunk:  77%|███████▋  | 204/265 [00:00<00:00, 1923.75it/s, now=None]\u001B[A\n",
      "processing:  50%|█████     | 10/20 [00:04<00:04,  2.47it/s]         \u001B[A"
     ]
    },
    {
     "name": "stdout",
     "output_type": "stream",
     "text": [
      "MoviePy - Writing audio in ./audio/gBR_sBM_c01_d04_mBR0_ch04.wav\n",
      "MoviePy - Done.\n"
     ]
    },
    {
     "name": "stderr",
     "output_type": "stream",
     "text": [
      "processing:  50%|█████     | 10/20 [00:04<00:04,  2.47it/s]\n",
      "chunk:   0%|          | 0/236 [00:00<?, ?it/s, now=None]\u001B[A\n",
      "processing:  55%|█████▌    | 11/20 [00:04<00:03,  2.62it/s]"
     ]
    },
    {
     "name": "stdout",
     "output_type": "stream",
     "text": [
      "MoviePy - Writing audio in ./audio/gBR_sBM_c01_d04_mBR1_ch01.wav\n",
      "MoviePy - Done.\n"
     ]
    },
    {
     "name": "stderr",
     "output_type": "stream",
     "text": [
      "processing:  55%|█████▌    | 11/20 [00:05<00:03,  2.62it/s]\n",
      "chunk:   0%|          | 0/265 [00:00<?, ?it/s, now=None]\u001B[A\n",
      "chunk:  82%|████████▏ | 217/265 [00:00<00:00, 2169.37it/s, now=None]\u001B[A\n",
      "processing:  60%|██████    | 12/20 [00:05<00:02,  2.72it/s]         \u001B[A"
     ]
    },
    {
     "name": "stdout",
     "output_type": "stream",
     "text": [
      "MoviePy - Writing audio in ./audio/gBR_sBM_c01_d04_mBR0_ch01.wav\n",
      "MoviePy - Done.\n"
     ]
    },
    {
     "name": "stderr",
     "output_type": "stream",
     "text": [
      "processing:  60%|██████    | 12/20 [00:05<00:02,  2.72it/s]\n",
      "chunk:   0%|          | 0/236 [00:00<?, ?it/s, now=None]\u001B[A\n",
      "chunk:  86%|████████▋ | 204/236 [00:00<00:00, 1893.24it/s, now=None]\u001B[A\n",
      "processing:  65%|██████▌   | 13/20 [00:05<00:02,  2.76it/s]         \u001B[A"
     ]
    },
    {
     "name": "stdout",
     "output_type": "stream",
     "text": [
      "MoviePy - Writing audio in ./audio/gBR_sBM_c01_d04_mBR1_ch03.wav\n",
      "MoviePy - Done.\n"
     ]
    },
    {
     "name": "stderr",
     "output_type": "stream",
     "text": [
      "processing:  65%|██████▌   | 13/20 [00:05<00:02,  2.76it/s]\n",
      "chunk:   0%|          | 0/265 [00:00<?, ?it/s, now=None]\u001B[A\n",
      "chunk:  77%|███████▋  | 204/265 [00:00<00:00, 1801.64it/s, now=None]\u001B[A\n",
      "processing:  70%|███████   | 14/20 [00:06<00:02,  2.65it/s]         \u001B[A"
     ]
    },
    {
     "name": "stdout",
     "output_type": "stream",
     "text": [
      "MoviePy - Writing audio in ./audio/gBR_sBM_c01_d04_mBR0_ch03.wav\n",
      "MoviePy - Done.\n"
     ]
    },
    {
     "name": "stderr",
     "output_type": "stream",
     "text": [
      "processing:  70%|███████   | 14/20 [00:06<00:02,  2.65it/s]\n",
      "chunk:   0%|          | 0/265 [00:00<?, ?it/s, now=None]\u001B[A\n",
      "chunk:  38%|███▊      | 102/265 [00:00<00:00, 698.23it/s, now=None]\u001B[A"
     ]
    },
    {
     "name": "stdout",
     "output_type": "stream",
     "text": [
      "MoviePy - Writing audio in ./audio/gBR_sBM_c01_d04_mBR0_ch02.wav\n"
     ]
    },
    {
     "name": "stderr",
     "output_type": "stream",
     "text": [
      "\n",
      "chunk:  65%|██████▍   | 172/265 [00:00<00:00, 558.48it/s, now=None]\u001B[A\n",
      "chunk:  86%|████████▋ | 229/265 [00:00<00:00, 530.29it/s, now=None]\u001B[A\n",
      "processing:  75%|███████▌  | 15/20 [00:06<00:02,  1.88it/s]        \u001B[A"
     ]
    },
    {
     "name": "stdout",
     "output_type": "stream",
     "text": [
      "MoviePy - Done.\n"
     ]
    },
    {
     "name": "stderr",
     "output_type": "stream",
     "text": [
      "processing:  75%|███████▌  | 15/20 [00:07<00:02,  1.88it/s]\n",
      "chunk:   0%|          | 0/236 [00:00<?, ?it/s, now=None]\u001B[A\n",
      "chunk:  65%|██████▍   | 153/236 [00:00<00:00, 1527.22it/s, now=None]\u001B[A\n",
      "processing:  80%|████████  | 16/20 [00:07<00:02,  1.84it/s]         \u001B[A"
     ]
    },
    {
     "name": "stdout",
     "output_type": "stream",
     "text": [
      "MoviePy - Writing audio in ./audio/gBR_sBM_c01_d04_mBR1_ch02.wav\n",
      "MoviePy - Done.\n"
     ]
    },
    {
     "name": "stderr",
     "output_type": "stream",
     "text": [
      "processing:  80%|████████  | 16/20 [00:07<00:02,  1.84it/s]\n",
      "chunk:   0%|          | 0/236 [00:00<?, ?it/s, now=None]\u001B[A\n",
      "chunk:  86%|████████▋ | 204/236 [00:00<00:00, 1836.83it/s, now=None]\u001B[A\n",
      "processing:  85%|████████▌ | 17/20 [00:07<00:01,  1.98it/s]         \u001B[A"
     ]
    },
    {
     "name": "stdout",
     "output_type": "stream",
     "text": [
      "MoviePy - Writing audio in ./audio/gBR_sBM_c01_d04_mBR1_ch09.wav\n",
      "MoviePy - Done.\n"
     ]
    },
    {
     "name": "stderr",
     "output_type": "stream",
     "text": [
      "processing:  85%|████████▌ | 17/20 [00:08<00:01,  1.98it/s]\n",
      "chunk:   0%|          | 0/265 [00:00<?, ?it/s, now=None]\u001B[A\n",
      "chunk:  71%|███████▏  | 189/265 [00:00<00:00, 1888.26it/s, now=None]\u001B[A\n",
      "processing:  90%|█████████ | 18/20 [00:08<00:00,  2.11it/s]         \u001B[A"
     ]
    },
    {
     "name": "stdout",
     "output_type": "stream",
     "text": [
      "MoviePy - Writing audio in ./audio/gBR_sBM_c01_d04_mBR0_ch09.wav\n",
      "MoviePy - Done.\n"
     ]
    },
    {
     "name": "stderr",
     "output_type": "stream",
     "text": [
      "processing:  90%|█████████ | 18/20 [00:08<00:00,  2.11it/s]\n",
      "chunk:   0%|          | 0/265 [00:00<?, ?it/s, now=None]\u001B[A\n",
      "chunk:  72%|███████▏  | 192/265 [00:00<00:00, 1918.39it/s, now=None]\u001B[A\n",
      "processing:  95%|█████████▌| 19/20 [00:08<00:00,  2.19it/s]         \u001B[A"
     ]
    },
    {
     "name": "stdout",
     "output_type": "stream",
     "text": [
      "MoviePy - Writing audio in ./audio/gBR_sBM_c01_d04_mBR0_ch08.wav\n",
      "MoviePy - Done.\n"
     ]
    },
    {
     "name": "stderr",
     "output_type": "stream",
     "text": [
      "processing:  95%|█████████▌| 19/20 [00:08<00:00,  2.19it/s]\n",
      "chunk:   0%|          | 0/236 [00:00<?, ?it/s, now=None]\u001B[A\n",
      "chunk:  92%|█████████▏| 217/236 [00:00<00:00, 2169.26it/s, now=None]\u001B[A\n",
      "processing:  95%|█████████▌| 19/20 [00:09<00:00,  2.19it/s]         \u001B[A"
     ]
    },
    {
     "name": "stdout",
     "output_type": "stream",
     "text": [
      "MoviePy - Writing audio in ./audio/gBR_sBM_c01_d04_mBR1_ch08.wav\n",
      "MoviePy - Done.\n"
     ]
    },
    {
     "name": "stderr",
     "output_type": "stream",
     "text": [
      "processing: 100%|██████████| 20/20 [00:09<00:00,  2.14it/s]\n"
     ]
    }
   ],
   "source": [
    "video_list=os.listdir(video_path)\n",
    "for file in tqdm((video_list),desc='processing'):\n",
    "    if('.mp4' in file):\n",
    "        video = VideoFileClip(video_path+\"/\"+file)\n",
    "        audio = video.audio\n",
    "        #print(file.replace(\".mp4\", \".wav\"))\n",
    "        (audio.write_audiofile(audio_path+'/'+file.replace(\".mp4\", \".wav\")))"
   ],
   "metadata": {
    "collapsed": false,
    "pycharm": {
     "name": "#%%\n"
    }
   }
  },
  {
   "cell_type": "markdown",
   "source": [
    "2.使用librosa进行音频处理\n",
    "2.1 120帧的video和60帧的audio"
   ],
   "metadata": {
    "collapsed": false
   }
  },
  {
   "cell_type": "code",
   "execution_count": 12,
   "outputs": [],
   "source": [
    "import librosa\n",
    "import librosa.display\n",
    "import matplotlib.pyplot as plt\n",
    "import torch\n",
    "import numpy as np\n",
    "from sklearn import preprocessing\n",
    "from sklearn.preprocessing import LabelEncoder,OneHotEncoder\n",
    "import speechpy"
   ],
   "metadata": {
    "collapsed": false,
    "pycharm": {
     "name": "#%%\n"
    }
   }
  },
  {
   "cell_type": "code",
   "execution_count": 14,
   "outputs": [
    {
     "name": "stderr",
     "output_type": "stream",
     "text": [
      "processing audio:   0%|          | 0/20 [00:00<?, ?it/s]"
     ]
    },
    {
     "name": "stdout",
     "output_type": "stream",
     "text": [
      "(13, 1)\n",
      "(13, 1)\n",
      "----\n",
      "(13, 1)\n",
      "(13, 1)\n",
      "(1, 1, 1)\n",
      "(1, 0)\n",
      "(1, 0)\n",
      "(1, 1, 0)\n",
      "(1, 1, 0)\n"
     ]
    },
    {
     "name": "stderr",
     "output_type": "stream",
     "text": [
      "\n"
     ]
    },
    {
     "ename": "ValueError",
     "evalue": "all the input arrays must have same number of dimensions, but the array at index 0 has 3 dimension(s) and the array at index 1 has 2 dimension(s)",
     "output_type": "error",
     "traceback": [
      "\u001B[0;31m---------------------------------------------------------------------------\u001B[0m",
      "\u001B[0;31mValueError\u001B[0m                                Traceback (most recent call last)",
      "\u001B[0;32m<ipython-input-14-0a98dbedff58>\u001B[0m in \u001B[0;36m<module>\u001B[0;34m\u001B[0m\n\u001B[1;32m     93\u001B[0m \u001B[0;34m\u001B[0m\u001B[0m\n\u001B[1;32m     94\u001B[0m \u001B[0;34m\u001B[0m\u001B[0m\n\u001B[0;32m---> 95\u001B[0;31m     \u001B[0mtmp\u001B[0m\u001B[0;34m=\u001B[0m\u001B[0mnp\u001B[0m\u001B[0;34m.\u001B[0m\u001B[0mconcatenate\u001B[0m\u001B[0;34m(\u001B[0m\u001B[0;34m(\u001B[0m\u001B[0menvelop\u001B[0m\u001B[0;34m,\u001B[0m\u001B[0mmfccs\u001B[0m\u001B[0;34m)\u001B[0m\u001B[0;34m,\u001B[0m\u001B[0maxis\u001B[0m\u001B[0;34m=\u001B[0m\u001B[0;36m1\u001B[0m\u001B[0;34m)\u001B[0m\u001B[0;34m\u001B[0m\u001B[0;34m\u001B[0m\u001B[0m\n\u001B[0m\u001B[1;32m     96\u001B[0m     \u001B[0mprint\u001B[0m\u001B[0;34m(\u001B[0m\u001B[0mtmp\u001B[0m\u001B[0;34m.\u001B[0m\u001B[0mshape\u001B[0m\u001B[0;34m)\u001B[0m\u001B[0;34m\u001B[0m\u001B[0;34m\u001B[0m\u001B[0m\n\u001B[1;32m     97\u001B[0m \u001B[0;34m\u001B[0m\u001B[0m\n",
      "\u001B[0;32m<__array_function__ internals>\u001B[0m in \u001B[0;36mconcatenate\u001B[0;34m(*args, **kwargs)\u001B[0m\n",
      "\u001B[0;31mValueError\u001B[0m: all the input arrays must have same number of dimensions, but the array at index 0 has 3 dimension(s) and the array at index 1 has 2 dimension(s)"
     ]
    }
   ],
   "source": [
    "data=list()\n",
    "for audiofile in tqdm(os.listdir(audio_path),desc=\"processing audio\"):\n",
    "    envelop = audiofile\n",
    "    start=0\n",
    "    duration = 4\n",
    "    fps=60\n",
    "    stop = start + duration\n",
    "    y,sr=librosa.load(audio_path+\"/\"+audiofile,sr=None,offset = start, duration = duration)#sr是采样率,None指原生采样率\n",
    "\n",
    "    audio_duration = librosa.get_duration(y,sr)\n",
    "    '''\n",
    "    分帧就是将原始语音信号分成大小固定的N段语音信号，这里每一段语音信号都被称为一帧，\n",
    "    帧长一般取10到30ms。分帧一般采用交叠分段的方法，是为了使帧与帧之间平滑过渡\n",
    "    保持其连续性。前一帧和后一帧的交叠部分称为帧移，帧移与帧长的比值一般取为0-1/2。\n",
    "    '''\n",
    "    y,sr\n",
    "    audio_dist = y\n",
    "    frame_shift = int(sr/(fps+4))#帧移，保证60个都有正常数据 4代表着framelength和shift之间的比值\n",
    "    frame_length = frame_shift*2#帧长\n",
    "    #print(audio_dist[0].dtype) float 32\n",
    "    #audio_dist=np.append(np.array(audio_dist),np.zeros(frame_length-frame_shift))#这里补0\n",
    "    hop_length =int(frame_shift) #frame_shift * sr窗口每部滑动距离（跳长）\n",
    "    win_length = int(frame_length)#窗口样本\n",
    "    hop_length\n",
    "    '''\n",
    "    plt.figure()\n",
    "    librosa.display.waveplot(audio_dist,sr)\n",
    "    #librosa.display.waveplot(audio_dist,sr)\n",
    "    '''\n",
    "    mfccs=np.array([])\n",
    "    chroma=np.array([])\n",
    "    peak=np.array([])\n",
    "    #tempo=np.array([])\n",
    "    beats=np.array([])\n",
    "    for i in range(fps*duration):\n",
    "        '''\n",
    "        mfcc返回 (n_mfcc,a)的向量，a=ceil(autioframelength / 帧移)\n",
    "        '''\n",
    "        sig=audio_dist[i*frame_shift:(i*frame_shift+frame_length)]\n",
    "\n",
    "        '''\n",
    "        mfccs_tmp=speechpy.feature.mfcc(signal=sig,\n",
    "                                        sampling_frequency=sr,\n",
    "                                        frame_length=frame_length/sr,\n",
    "                                        frame_stride=frame_shift/sr,\n",
    "                                        num_filters=13,\n",
    "                                        fft_length=frame_length\n",
    "                                        )\n",
    "        print(mfccs_tmp.shape)\n",
    "        '''\n",
    "\n",
    "        mfccs_tmp=librosa.feature.mfcc(y=audio_dist[i*frame_shift:i*frame_shift+frame_length],sr=sr,n_mfcc=13,hop_length=frame_length+1)#因为ceil的存在所以为了保证每次的计算纬度都为1所以就+1\n",
    "        #mfccs_tmp=np.ravel(mfccs_tmp)\n",
    "        print(mfccs_tmp.shape)\n",
    "        derivative=speechpy.feature.extract_derivative_feature(mfccs_tmp)\n",
    "        derivative=derivative[:,:,1]#get 1 derivative\n",
    "        mfccs_tmp=np.append(mfccs_tmp,derivative)\n",
    "        print(\"----\")\n",
    "        chroma_tmp=librosa.feature.chroma_stft(audio_dist[i*frame_shift:i*frame_shift+frame_length],sr=sr,hop_length=hop_length,win_length=win_length,n_chroma=12,n_fft=frame_length)\n",
    "        \n",
    "\n",
    "        oneset_env_tmp = librosa.onset.onset_strength(y=audio_dist[i*frame_shift:i*frame_shift+frame_length],sr=sr,hop_length=hop_length,aggregate=np.median)\n",
    "        peak_tmp = librosa.util.peak_pick(oneset_env_tmp,1,1,1,1,0.8,5)#公式来决定的，具体参数最后两个比较重要，后面需要调整\n",
    "        tempo,beats_tmp = librosa.beat.beat_track(y=audio_dist[i*frame_shift:i*frame_shift+frame_length],sr=sr,hop_length=hop_length)\n",
    "        print(mfccs_tmp.shape)\n",
    "\n",
    "        break\n",
    "    '''\n",
    "    value=np.array(peak)\n",
    "    label_encoder=LabelEncoder()\n",
    "    integer_encoded = label_encoder.fit_transform(value)\n",
    "    print(integer_encoded)\n",
    "    onehot_encoder = OneHotEncoder(sparse=False)\n",
    "    integer_encoded = integer_encoded.reshape(len(integer_encoded), 1)\n",
    "    onehot_encoded = onehot_encoder.fit_transform(integer_encoded)\n",
    "    print(onehot_encoded)\n",
    "    '''\n",
    "\n",
    "\n",
    "    #print(\"tempo\",tempo, \"\\nbeat_frames\",beats)\n",
    "    #tmp=envelop+mfccs+chroma+peak+beats\n",
    "    envelop=np.asarray(envelop)\n",
    "    envelop=np.asarray([[[envelop]]])\n",
    "    mfccs=np.asarray([mfccs])\n",
    "    chroma=np.asarray([chroma])\n",
    "    peak=np.asarray([[peak]])\n",
    "    beats=np.asarray([[beats]])\n",
    "    print(envelop.shape)\n",
    "    print(mfccs.shape)\n",
    "    print(chroma.shape)\n",
    "    print(peak.shape)\n",
    "    print(beats.shape)\n",
    "\n",
    "\n",
    "    tmp=np.concatenate((envelop,mfccs),axis=1)\n",
    "    print(tmp.shape)\n",
    "\n",
    "    '''\n",
    "    # Display click waveform next to the spectrogram\n",
    "    plt.figure()\n",
    "    S = librosa.feature.melspectrogram(y=audio_dist, sr=sr)\n",
    "    ax = plt.subplot(2,1,2)\n",
    "    librosa.display.specshow(librosa.power_to_db(S, ref=np.max),\n",
    "                             x_axis='time', y_axis='mel')\n",
    "    plt.subplot(2,1,1, sharex=ax)\n",
    "    librosa.display.waveplot(beats, sr=sr, label='Beat clicks')\n",
    "    plt.legend()\n",
    "    plt.xlim(15, 30)\n",
    "    plt.tight_layout()\n",
    "    '''\n",
    "    break\n",
    "\n"
   ],
   "metadata": {
    "collapsed": false,
    "pycharm": {
     "name": "#%%\n"
    }
   }
  },
  {
   "cell_type": "code",
   "execution_count": null,
   "outputs": [],
   "source": [],
   "metadata": {
    "collapsed": false,
    "pycharm": {
     "name": "#%%\n"
    }
   }
  }
 ],
 "metadata": {
  "kernelspec": {
   "name": "pycharm-5343eecf",
   "language": "python",
   "display_name": "PyCharm (Pytorch-pratice)"
  },
  "language_info": {
   "codemirror_mode": {
    "name": "ipython",
    "version": 2
   },
   "file_extension": ".py",
   "mimetype": "text/x-python",
   "name": "python",
   "nbconvert_exporter": "python",
   "pygments_lexer": "ipython2",
   "version": "2.7.6"
  }
 },
 "nbformat": 4,
 "nbformat_minor": 0
}