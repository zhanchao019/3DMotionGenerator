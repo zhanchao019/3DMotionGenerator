{
 "cells": [
  {
   "cell_type": "markdown",
   "source": [
    "1. 导入模块将wav无损音频分离到audio文件夹中"
   ],
   "metadata": {
    "collapsed": false,
    "pycharm": {
     "name": "#%% md\n"
    }
   }
  },
  {
   "cell_type": "code",
   "execution_count": 2,
   "outputs": [],
   "source": [
    "import os\n",
    "from sklearn.preprocessing import OneHotEncoder, LabelEncoder\n",
    "from tqdm import tqdm, trange\n",
    "import time\n",
    "from moviepy.editor import *\n",
    "video_path=\"./video\"\n",
    "audio_path=\"./audio\""
   ],
   "metadata": {
    "collapsed": false,
    "pycharm": {
     "name": "#%%\n"
    }
   }
  },
  {
   "cell_type": "code",
   "execution_count": 3,
   "outputs": [
    {
     "name": "stderr",
     "output_type": "stream",
     "text": [
      "processing:   0%|          | 0/20 [00:00<?, ?it/s]\n",
      "chunk:   0%|          | 0/236 [00:00<?, ?it/s, now=None]\u001B[A\n",
      "chunk:  86%|████████▋ | 204/236 [00:00<00:00, 1995.78it/s, now=None]\u001B[A\n",
      "processing:   5%|▌         | 1/20 [00:00<00:08,  2.29it/s]          \u001B[A"
     ]
    },
    {
     "name": "stdout",
     "output_type": "stream",
     "text": [
      "MoviePy - Writing audio in ./audio/gBR_sBM_c01_d04_mBR1_ch06.wav\n",
      "MoviePy - Done.\n"
     ]
    },
    {
     "name": "stderr",
     "output_type": "stream",
     "text": [
      "processing:   5%|▌         | 1/20 [00:00<00:08,  2.29it/s]\n",
      "chunk:   0%|          | 0/265 [00:00<?, ?it/s, now=None]\u001B[A\n",
      "chunk:  77%|███████▋  | 204/265 [00:00<00:00, 1906.47it/s, now=None]\u001B[A\n",
      "processing:  10%|█         | 2/20 [00:00<00:07,  2.38it/s]          \u001B[A"
     ]
    },
    {
     "name": "stdout",
     "output_type": "stream",
     "text": [
      "MoviePy - Writing audio in ./audio/gBR_sBM_c01_d04_mBR0_ch06.wav\n",
      "MoviePy - Done.\n"
     ]
    },
    {
     "name": "stderr",
     "output_type": "stream",
     "text": [
      "processing:  10%|█         | 2/20 [00:01<00:07,  2.38it/s]\n",
      "chunk:   0%|          | 0/265 [00:00<?, ?it/s, now=None]\u001B[A\n",
      "chunk:  77%|███████▋  | 204/265 [00:00<00:00, 1927.64it/s, now=None]\u001B[A\n",
      "processing:  15%|█▌        | 3/20 [00:01<00:07,  2.33it/s]          \u001B[A"
     ]
    },
    {
     "name": "stdout",
     "output_type": "stream",
     "text": [
      "MoviePy - Writing audio in ./audio/gBR_sBM_c01_d04_mBR0_ch07.wav\n",
      "MoviePy - Done.\n"
     ]
    },
    {
     "name": "stderr",
     "output_type": "stream",
     "text": [
      "processing:  15%|█▌        | 3/20 [00:01<00:07,  2.33it/s]\n",
      "chunk:   0%|          | 0/236 [00:00<?, ?it/s, now=None]\u001B[A\n",
      "chunk:  94%|█████████▍| 223/236 [00:00<00:00, 2227.35it/s, now=None]\u001B[A\n",
      "processing:  20%|██        | 4/20 [00:01<00:06,  2.53it/s]          \u001B[A"
     ]
    },
    {
     "name": "stdout",
     "output_type": "stream",
     "text": [
      "MoviePy - Writing audio in ./audio/gBR_sBM_c01_d04_mBR1_ch07.wav\n",
      "MoviePy - Done.\n"
     ]
    },
    {
     "name": "stderr",
     "output_type": "stream",
     "text": [
      "processing:  20%|██        | 4/20 [00:01<00:06,  2.53it/s]\n",
      "chunk:   0%|          | 0/265 [00:00<?, ?it/s, now=None]\u001B[A\n",
      "chunk:  77%|███████▋  | 204/265 [00:00<00:00, 1952.60it/s, now=None]\u001B[A\n",
      "processing:  25%|██▌       | 5/20 [00:01<00:05,  2.66it/s]          \u001B[A"
     ]
    },
    {
     "name": "stdout",
     "output_type": "stream",
     "text": [
      "MoviePy - Writing audio in ./audio/gBR_sBM_c01_d04_mBR0_ch05.wav\n",
      "MoviePy - Done.\n"
     ]
    },
    {
     "name": "stderr",
     "output_type": "stream",
     "text": [
      "processing:  25%|██▌       | 5/20 [00:02<00:05,  2.66it/s]\n",
      "chunk:   0%|          | 0/236 [00:00<?, ?it/s, now=None]\u001B[A\n",
      "chunk:  65%|██████▍   | 153/236 [00:00<00:00, 1470.18it/s, now=None]\u001B[A\n",
      "processing:  30%|███       | 6/20 [00:02<00:05,  2.53it/s]          \u001B[A"
     ]
    },
    {
     "name": "stdout",
     "output_type": "stream",
     "text": [
      "MoviePy - Writing audio in ./audio/gBR_sBM_c01_d04_mBR1_ch05.wav\n",
      "MoviePy - Done.\n"
     ]
    },
    {
     "name": "stderr",
     "output_type": "stream",
     "text": [
      "processing:  30%|███       | 6/20 [00:02<00:05,  2.53it/s]\n",
      "chunk:   0%|          | 0/265 [00:00<?, ?it/s, now=None]\u001B[A\n",
      "chunk:  77%|███████▋  | 204/265 [00:00<00:00, 1859.35it/s, now=None]\u001B[A\n",
      "processing:  35%|███▌      | 7/20 [00:02<00:05,  2.55it/s]          \u001B[A"
     ]
    },
    {
     "name": "stdout",
     "output_type": "stream",
     "text": [
      "MoviePy - Writing audio in ./audio/gBR_sBM_c01_d04_mBR0_ch10.wav\n",
      "MoviePy - Done.\n"
     ]
    },
    {
     "name": "stderr",
     "output_type": "stream",
     "text": [
      "processing:  35%|███▌      | 7/20 [00:03<00:05,  2.55it/s]\n",
      "chunk:   0%|          | 0/236 [00:00<?, ?it/s, now=None]\u001B[A\n",
      "chunk:  75%|███████▌  | 178/236 [00:00<00:00, 1775.84it/s, now=None]\u001B[A\n",
      "processing:  40%|████      | 8/20 [00:03<00:04,  2.50it/s]          \u001B[A"
     ]
    },
    {
     "name": "stdout",
     "output_type": "stream",
     "text": [
      "MoviePy - Writing audio in ./audio/gBR_sBM_c01_d04_mBR1_ch04.wav\n",
      "MoviePy - Done.\n"
     ]
    },
    {
     "name": "stderr",
     "output_type": "stream",
     "text": [
      "processing:  40%|████      | 8/20 [00:03<00:04,  2.50it/s]\n",
      "chunk:   0%|          | 0/236 [00:00<?, ?it/s, now=None]\u001B[A\n",
      "processing:  45%|████▌     | 9/20 [00:03<00:04,  2.45it/s]A"
     ]
    },
    {
     "name": "stdout",
     "output_type": "stream",
     "text": [
      "MoviePy - Writing audio in ./audio/gBR_sBM_c01_d04_mBR1_ch10.wav\n",
      "MoviePy - Done.\n"
     ]
    },
    {
     "name": "stderr",
     "output_type": "stream",
     "text": [
      "processing:  45%|████▌     | 9/20 [00:03<00:04,  2.45it/s]\n",
      "chunk:   0%|          | 0/265 [00:00<?, ?it/s, now=None]\u001B[A\n",
      "chunk:  69%|██████▉   | 183/265 [00:00<00:00, 1827.11it/s, now=None]\u001B[A\n",
      "processing:  50%|█████     | 10/20 [00:04<00:04,  2.39it/s]         \u001B[A"
     ]
    },
    {
     "name": "stdout",
     "output_type": "stream",
     "text": [
      "MoviePy - Writing audio in ./audio/gBR_sBM_c01_d04_mBR0_ch04.wav\n",
      "MoviePy - Done.\n"
     ]
    },
    {
     "name": "stderr",
     "output_type": "stream",
     "text": [
      "processing:  50%|█████     | 10/20 [00:04<00:04,  2.39it/s]\n",
      "chunk:   0%|          | 0/236 [00:00<?, ?it/s, now=None]\u001B[A\n",
      "chunk:  86%|████████▋ | 204/236 [00:00<00:00, 1994.14it/s, now=None]\u001B[A\n",
      "processing:  55%|█████▌    | 11/20 [00:04<00:03,  2.48it/s]         \u001B[A"
     ]
    },
    {
     "name": "stdout",
     "output_type": "stream",
     "text": [
      "MoviePy - Writing audio in ./audio/gBR_sBM_c01_d04_mBR1_ch01.wav\n",
      "MoviePy - Done.\n"
     ]
    },
    {
     "name": "stderr",
     "output_type": "stream",
     "text": [
      "processing:  55%|█████▌    | 11/20 [00:04<00:03,  2.48it/s]\n",
      "chunk:   0%|          | 0/265 [00:00<?, ?it/s, now=None]\u001B[A\n",
      "chunk:  76%|███████▌  | 201/265 [00:00<00:00, 2007.25it/s, now=None]\u001B[A\n",
      "processing:  60%|██████    | 12/20 [00:04<00:03,  2.45it/s]         \u001B[A"
     ]
    },
    {
     "name": "stdout",
     "output_type": "stream",
     "text": [
      "MoviePy - Writing audio in ./audio/gBR_sBM_c01_d04_mBR0_ch01.wav\n",
      "MoviePy - Done.\n"
     ]
    },
    {
     "name": "stderr",
     "output_type": "stream",
     "text": [
      "processing:  60%|██████    | 12/20 [00:05<00:03,  2.45it/s]\n",
      "chunk:   0%|          | 0/236 [00:00<?, ?it/s, now=None]\u001B[A\n",
      "chunk:  65%|██████▍   | 153/236 [00:00<00:00, 1265.23it/s, now=None]\u001B[A\n",
      "processing:  60%|██████    | 12/20 [00:05<00:03,  2.45it/s]         \u001B[A"
     ]
    },
    {
     "name": "stdout",
     "output_type": "stream",
     "text": [
      "MoviePy - Writing audio in ./audio/gBR_sBM_c01_d04_mBR1_ch03.wav\n",
      "MoviePy - Done.\n"
     ]
    },
    {
     "name": "stderr",
     "output_type": "stream",
     "text": [
      "processing:  65%|██████▌   | 13/20 [00:05<00:03,  2.20it/s]\n",
      "chunk:   0%|          | 0/265 [00:00<?, ?it/s, now=None]\u001B[A\n",
      "chunk:  58%|█████▊    | 153/265 [00:00<00:00, 1247.87it/s, now=None]\u001B[A"
     ]
    },
    {
     "name": "stdout",
     "output_type": "stream",
     "text": [
      "MoviePy - Writing audio in ./audio/gBR_sBM_c01_d04_mBR0_ch03.wav\n"
     ]
    },
    {
     "name": "stderr",
     "output_type": "stream",
     "text": [
      "\n",
      "processing:  70%|███████   | 14/20 [00:06<00:03,  1.94it/s]         \u001B[A"
     ]
    },
    {
     "name": "stdout",
     "output_type": "stream",
     "text": [
      "MoviePy - Done.\n"
     ]
    },
    {
     "name": "stderr",
     "output_type": "stream",
     "text": [
      "processing:  70%|███████   | 14/20 [00:06<00:03,  1.94it/s]"
     ]
    },
    {
     "name": "stdout",
     "output_type": "stream",
     "text": [
      "MoviePy - Writing audio in ./audio/gBR_sBM_c01_d04_mBR0_ch02.wav\n"
     ]
    },
    {
     "name": "stderr",
     "output_type": "stream",
     "text": [
      "\n",
      "chunk:   0%|          | 0/265 [00:00<?, ?it/s, now=None]\u001B[A\n",
      "chunk:  45%|████▌     | 120/265 [00:00<00:00, 1197.96it/s, now=None]\u001B[A\n",
      "chunk:  91%|█████████ | 240/265 [00:00<00:00, 732.99it/s, now=None] \u001B[A\n",
      "processing:  75%|███████▌  | 15/20 [00:07<00:03,  1.50it/s]        \u001B[A"
     ]
    },
    {
     "name": "stdout",
     "output_type": "stream",
     "text": [
      "MoviePy - Done.\n"
     ]
    },
    {
     "name": "stderr",
     "output_type": "stream",
     "text": [
      "processing:  75%|███████▌  | 15/20 [00:07<00:03,  1.50it/s]\n",
      "chunk:   0%|          | 0/236 [00:00<?, ?it/s, now=None]\u001B[A\n",
      "chunk:  74%|███████▎  | 174/236 [00:00<00:00, 1738.96it/s, now=None]\u001B[A\n",
      "processing:  80%|████████  | 16/20 [00:07<00:02,  1.70it/s]         \u001B[A"
     ]
    },
    {
     "name": "stdout",
     "output_type": "stream",
     "text": [
      "MoviePy - Writing audio in ./audio/gBR_sBM_c01_d04_mBR1_ch02.wav\n",
      "MoviePy - Done.\n"
     ]
    },
    {
     "name": "stderr",
     "output_type": "stream",
     "text": [
      "processing:  80%|████████  | 16/20 [00:07<00:02,  1.70it/s]\n",
      "chunk:   0%|          | 0/236 [00:00<?, ?it/s, now=None]\u001B[A\n",
      "chunk:  86%|████████▋ | 204/236 [00:00<00:00, 1799.85it/s, now=None]\u001B[A\n",
      "processing:  85%|████████▌ | 17/20 [00:07<00:01,  1.88it/s]         \u001B[A"
     ]
    },
    {
     "name": "stdout",
     "output_type": "stream",
     "text": [
      "MoviePy - Writing audio in ./audio/gBR_sBM_c01_d04_mBR1_ch09.wav\n",
      "MoviePy - Done.\n"
     ]
    },
    {
     "name": "stderr",
     "output_type": "stream",
     "text": [
      "processing:  85%|████████▌ | 17/20 [00:08<00:01,  1.88it/s]\n",
      "chunk:   0%|          | 0/265 [00:00<?, ?it/s, now=None]\u001B[A\n",
      "chunk:  77%|███████▋  | 204/265 [00:00<00:00, 1849.59it/s, now=None]\u001B[A\n",
      "processing:  90%|█████████ | 18/20 [00:08<00:00,  2.00it/s]         \u001B[A"
     ]
    },
    {
     "name": "stdout",
     "output_type": "stream",
     "text": [
      "MoviePy - Writing audio in ./audio/gBR_sBM_c01_d04_mBR0_ch09.wav\n",
      "MoviePy - Done.\n"
     ]
    },
    {
     "name": "stderr",
     "output_type": "stream",
     "text": [
      "processing:  90%|█████████ | 18/20 [00:08<00:00,  2.00it/s]\n",
      "chunk:   0%|          | 0/265 [00:00<?, ?it/s, now=None]\u001B[A\n",
      "chunk:  58%|█████▊    | 153/265 [00:00<00:00, 1528.33it/s, now=None]\u001B[A\n",
      "processing:  95%|█████████▌| 19/20 [00:08<00:00,  2.06it/s]         \u001B[A"
     ]
    },
    {
     "name": "stdout",
     "output_type": "stream",
     "text": [
      "MoviePy - Writing audio in ./audio/gBR_sBM_c01_d04_mBR0_ch08.wav\n",
      "MoviePy - Done.\n"
     ]
    },
    {
     "name": "stderr",
     "output_type": "stream",
     "text": [
      "processing:  95%|█████████▌| 19/20 [00:09<00:00,  2.06it/s]\n",
      "chunk:   0%|          | 0/236 [00:00<?, ?it/s, now=None]\u001B[A\n",
      "chunk:  68%|██████▊   | 161/236 [00:00<00:00, 1607.61it/s, now=None]\u001B[A\n",
      "processing: 100%|██████████| 20/20 [00:09<00:00,  2.17it/s]         \u001B[A"
     ]
    },
    {
     "name": "stdout",
     "output_type": "stream",
     "text": [
      "MoviePy - Writing audio in ./audio/gBR_sBM_c01_d04_mBR1_ch08.wav\n",
      "MoviePy - Done.\n"
     ]
    },
    {
     "name": "stderr",
     "output_type": "stream",
     "text": [
      "\n"
     ]
    }
   ],
   "source": [
    "video_list=os.listdir(video_path)\n",
    "for file in tqdm((video_list),desc='processing'):\n",
    "    if('.mp4' in file):\n",
    "        video = VideoFileClip(video_path+\"/\"+file)\n",
    "        audio = video.audio\n",
    "        #print(file.replace(\".mp4\", \".wav\"))\n",
    "        (audio.write_audiofile(audio_path+'/'+file.replace(\".mp4\", \".wav\")))"
   ],
   "metadata": {
    "collapsed": false,
    "pycharm": {
     "name": "#%%\n"
    }
   }
  },
  {
   "cell_type": "markdown",
   "source": [
    "2.使用librosa进行音频处理\n",
    "2.1 120帧的video和240帧的audio"
   ],
   "metadata": {
    "collapsed": false
   }
  },
  {
   "cell_type": "code",
   "execution_count": 4,
   "outputs": [],
   "source": [
    "import librosa\n",
    "import librosa.display\n",
    "import matplotlib.pyplot as plt\n",
    "import torch\n",
    "import numpy as np\n",
    "from sklearn import preprocessing\n",
    "from sklearn.preprocessing import LabelEncoder,OneHotEncoder"
   ],
   "metadata": {
    "collapsed": false,
    "pycharm": {
     "name": "#%%\n"
    }
   }
  },
  {
   "cell_type": "code",
   "execution_count": 70,
   "outputs": [
    {
     "name": "stderr",
     "output_type": "stream",
     "text": [
      "processing audio:   0%|          | 0/20 [00:00<?, ?it/s]\n"
     ]
    },
    {
     "name": "stdout",
     "output_type": "stream",
     "text": [
      "(1, 1, 1)\n",
      "(1, 20, 345)\n",
      "(1, 12, 241)\n",
      "(1, 1, 19)\n",
      "(1, 1, 6)\n"
     ]
    },
    {
     "ename": "ValueError",
     "evalue": "all the input array dimensions for the concatenation axis must match exactly, but along dimension 2, the array at index 0 has size 1 and the array at index 1 has size 345",
     "output_type": "error",
     "traceback": [
      "\u001B[0;31m---------------------------------------------------------------------------\u001B[0m",
      "\u001B[0;31mValueError\u001B[0m                                Traceback (most recent call last)",
      "\u001B[0;32m<ipython-input-70-1aaa3040863e>\u001B[0m in \u001B[0;36m<module>\u001B[0;34m\u001B[0m\n\u001B[1;32m     54\u001B[0m \u001B[0;34m\u001B[0m\u001B[0m\n\u001B[1;32m     55\u001B[0m \u001B[0;34m\u001B[0m\u001B[0m\n\u001B[0;32m---> 56\u001B[0;31m     \u001B[0mtmp\u001B[0m\u001B[0;34m=\u001B[0m\u001B[0mnp\u001B[0m\u001B[0;34m.\u001B[0m\u001B[0mconcatenate\u001B[0m\u001B[0;34m(\u001B[0m\u001B[0;34m(\u001B[0m\u001B[0menvelop\u001B[0m\u001B[0;34m,\u001B[0m\u001B[0mmfccs\u001B[0m\u001B[0;34m)\u001B[0m\u001B[0;34m,\u001B[0m\u001B[0maxis\u001B[0m\u001B[0;34m=\u001B[0m\u001B[0;36m1\u001B[0m\u001B[0;34m)\u001B[0m\u001B[0;34m\u001B[0m\u001B[0;34m\u001B[0m\u001B[0m\n\u001B[0m\u001B[1;32m     57\u001B[0m     \u001B[0mprint\u001B[0m\u001B[0;34m(\u001B[0m\u001B[0mtmp\u001B[0m\u001B[0;34m.\u001B[0m\u001B[0mshape\u001B[0m\u001B[0;34m)\u001B[0m\u001B[0;34m\u001B[0m\u001B[0;34m\u001B[0m\u001B[0m\n\u001B[1;32m     58\u001B[0m \u001B[0;34m\u001B[0m\u001B[0m\n",
      "\u001B[0;32m<__array_function__ internals>\u001B[0m in \u001B[0;36mconcatenate\u001B[0;34m(*args, **kwargs)\u001B[0m\n",
      "\u001B[0;31mValueError\u001B[0m: all the input array dimensions for the concatenation axis must match exactly, but along dimension 2, the array at index 0 has size 1 and the array at index 1 has size 345"
     ]
    }
   ],
   "source": [
    "data=list()\n",
    "for audiofile in tqdm(os.listdir(audio_path),desc=\"processing audio\"):\n",
    "    envelop = audiofile\n",
    "    start=0\n",
    "    duration = 4\n",
    "    fps=60\n",
    "    stop = start + duration\n",
    "    y,sr=librosa.load(audio_path+\"/\"+audiofile,sr=None,offset = start, duration = duration)#sr是采样率,None指原生采样率\n",
    "\n",
    "    audio_duration = librosa.get_duration(y,sr)\n",
    "    '''\n",
    "    分帧就是将原始语音信号分成大小固定的N段语音信号，这里每一段语音信号都被称为一帧，\n",
    "    帧长一般取10到30ms。分帧一般采用交叠分段的方法，是为了使帧与帧之间平滑过渡\n",
    "    保持其连续性。前一帧和后一帧的交叠部分称为帧移，帧移与帧长的比值一般取为0-1/2。\n",
    "    '''\n",
    "\n",
    "    audio_dist = y[start*sr:stop*sr]\n",
    "    frame_shift = 1/(fps+1)#帧移，保证60个都有正常数据\n",
    "    frame_length = frame_shift*3#帧长\n",
    "    audio_dist = y[start*sr:stop*sr]\n",
    "    np.append(audio_dist,np.zeros(frame_length-frame_shift))#这里补0\n",
    "\n",
    "    hop_length =int(duration * sr / 240) #frame_shift * sr\n",
    "    win_length = int(frame_length*sr)\n",
    "\n",
    "    '''\n",
    "    plt.figure()\n",
    "    librosa.display.waveplot(audio_dist,sr)\n",
    "    #librosa.display.waveplot(audio_dist,sr)\n",
    "    '''\n",
    "    mfccs=librosa.feature.mfcc(y=audio_dist,sr=sr,n_mfcc=20)\n",
    "    chroma=librosa.feature.chroma_stft(audio_dist,sr=sr,hop_length=hop_length,win_length=win_length,n_chroma=12)\n",
    "\n",
    "    oneset_env = librosa.onset.onset_strength(y=audio_dist,sr=sr,hop_length=hop_length,aggregate=np.median)\n",
    "    peak = librosa.util.peak_pick(oneset_env,1,1,1,1,0.8,5)#公式来决定的，具体参数最后两个比较重要，后面需要调整\n",
    "    tempo,beats = librosa.beat.beat_track(y=audio_dist,sr=sr,hop_length=hop_length)\n",
    "\n",
    "    '''\n",
    "    value=np.array(peak)\n",
    "    label_encoder=LabelEncoder()\n",
    "    integer_encoded = label_encoder.fit_transform(value)\n",
    "    print(integer_encoded)\n",
    "    onehot_encoder = OneHotEncoder(sparse=False)\n",
    "    integer_encoded = integer_encoded.reshape(len(integer_encoded), 1)\n",
    "    onehot_encoded = onehot_encoder.fit_transform(integer_encoded)\n",
    "    print(onehot_encoded)\n",
    "    '''\n",
    "\n",
    "\n",
    "    #print(\"tempo\",tempo, \"\\nbeat_frames\",beats)\n",
    "    #tmp=envelop+mfccs+chroma+peak+beats\n",
    "    envelop=np.asarray(envelop)\n",
    "    envelop=np.asarray([[[envelop]]])\n",
    "    mfccs=np.asarray([mfccs])\n",
    "    chroma=np.asarray([chroma])\n",
    "    peak=np.asarray([[peak]])\n",
    "    beats=np.asarray([[beats]])\n",
    "    print(envelop.shape)\n",
    "    print(mfccs.shape)\n",
    "    print(chroma.shape)\n",
    "    print(peak.shape)\n",
    "    print(beats.shape)\n",
    "\n",
    "\n",
    "    tmp=np.concatenate((envelop,mfccs),axis=1)\n",
    "    print(tmp.shape)\n",
    "\n",
    "    '''\n",
    "    # Display click waveform next to the spectrogram\n",
    "    plt.figure()\n",
    "    S = librosa.feature.melspectrogram(y=audio_dist, sr=sr)\n",
    "    ax = plt.subplot(2,1,2)\n",
    "    librosa.display.specshow(librosa.power_to_db(S, ref=np.max),\n",
    "                             x_axis='time', y_axis='mel')\n",
    "    plt.subplot(2,1,1, sharex=ax)\n",
    "    librosa.display.waveplot(beats, sr=sr, label='Beat clicks')\n",
    "    plt.legend()\n",
    "    plt.xlim(15, 30)\n",
    "    plt.tight_layout()\n",
    "    '''\n",
    "    break\n",
    "\n"
   ],
   "metadata": {
    "collapsed": false,
    "pycharm": {
     "name": "#%%\n"
    }
   }
  },
  {
   "cell_type": "code",
   "execution_count": null,
   "outputs": [],
   "source": [],
   "metadata": {
    "collapsed": false,
    "pycharm": {
     "name": "#%%\n"
    }
   }
  }
 ],
 "metadata": {
  "kernelspec": {
   "name": "pycharm-5343eecf",
   "language": "python",
   "display_name": "PyCharm (Pytorch-pratice)"
  },
  "language_info": {
   "codemirror_mode": {
    "name": "ipython",
    "version": 2
   },
   "file_extension": ".py",
   "mimetype": "text/x-python",
   "name": "python",
   "nbconvert_exporter": "python",
   "pygments_lexer": "ipython2",
   "version": "2.7.6"
  }
 },
 "nbformat": 4,
 "nbformat_minor": 0
}